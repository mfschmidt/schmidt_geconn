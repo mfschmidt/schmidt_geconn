{
 "cells": [
  {
   "cell_type": "markdown",
   "metadata": {},
   "source": [
    "# Step 2. Filter signal probes from noise probes"
   ]
  },
  {
   "cell_type": "markdown",
   "metadata": {},
   "source": [
    "---\n",
    "> Created 01.31.2019 (in Spyder) by Mike Schmidt to design our approach to filtering probes by comparing Arnatkeviciute's and Richiardi's approaches. Which are likely to be all noise and no signal?\n",
    "\n",
    "> Updated 11.04.2019 porting from .py to .ipynb while describing differences between filtering approaches in the manuscript.\n",
    "\n",
    "---"
   ]
  },
  {
   "cell_type": "markdown",
   "metadata": {},
   "source": [
    "This file will load the dataframe of annotated probes, all mapped to entrez_ids, from the previous step. It will gather all PACall data from slabs labelled CX, excluding brainstem (BS) and cerebellum (CB). All probes with >50% of samples expressing over noise level will be retained. Probes with <50% of samples above noise will be dropped. This will result in two files, filtered_entrez_ids.csv containing 32,011 rows of probes, and filtered_calls.csv containing 2,748 columns of CX samples.\n",
    "\n",
    "The AHBA data can be downloaded from the Allen Human Brain Atlas at https://human.brain-map.org/static/download or along with the supplemental data from Arnatkeviciute, et al, at https://figshare.com/articles/AHBAdata/6852911. Their paper is at https://doi.org/10.1016/j.neuroimage.2019.01.011."
   ]
  },
  {
   "cell_type": "code",
   "execution_count": 1,
   "metadata": {},
   "outputs": [],
   "source": [
    "import pandas as pd\n",
    "import matplotlib.pyplot as plt\n",
    "import seaborn as sns\n",
    "\n",
    "import os"
   ]
  },
  {
   "cell_type": "code",
   "execution_count": 2,
   "metadata": {},
   "outputs": [],
   "source": [
    "\"\"\" Explicitly specifying directories is far more robust than relative paths, and it allows for easier context shifting.\n",
    "    These can be modified where base_dir is where Arnatkeviciute, et als' supplementary date have been extracted.\n",
    "\"\"\"\n",
    "base_dir = '/home/mike/Dropbox/projects/AHBAProcessing'\n",
    "ge_dir = '/home/mike/ge_data'"
   ]
  },
  {
   "cell_type": "code",
   "execution_count": 3,
   "metadata": {},
   "outputs": [],
   "source": [
    "# Read the source data\n",
    "original_probes = pd.read_csv(os.path.join(ge_dir, \"sourcedata/sub-H03511009/expr/Probes.csv\"))\n",
    "entrez_ids = pd.read_csv(os.path.join(ge_dir, \"genome/new_annotation_with_entrez_id.csv\"))"
   ]
  },
  {
   "cell_type": "code",
   "execution_count": 4,
   "metadata": {},
   "outputs": [
    {
     "name": "stdout",
     "output_type": "stream",
     "text": [
      "Reading H03511009's call data.\n",
      "slab_type\n",
      "BS     26\n",
      "CB     42\n",
      "CX    295\n",
      "Name: slab_type, dtype: int64\n",
      "Reading H03511012's call data.\n",
      "slab_type\n",
      "BS     80\n",
      "CB     48\n",
      "CX    401\n",
      "Name: slab_type, dtype: int64\n",
      "Reading H03511015's call data.\n",
      "slab_type\n",
      "BS     79\n",
      "CB     62\n",
      "CX    329\n",
      "Name: slab_type, dtype: int64\n",
      "Reading H03511016's call data.\n",
      "slab_type\n",
      "BS     59\n",
      "CB     80\n",
      "CX    362\n",
      "Name: slab_type, dtype: int64\n",
      "Reading H03512001's call data.\n",
      "slab_type\n",
      "BS    154\n",
      "CB     53\n",
      "CX    739\n",
      "Name: slab_type, dtype: int64\n",
      "Reading H03512002's call data.\n",
      "slab_type\n",
      "BS    188\n",
      "CB     83\n",
      "CX    622\n",
      "Name: slab_type, dtype: int64\n"
     ]
    }
   ],
   "source": [
    "# Get Call data from all subjects and combine it all.\n",
    "subs = ['H03511009', 'H03511012', 'H03511015', 'H03511016', 'H03512001', 'H03512002', ]\n",
    "call_list = []\n",
    "for sub in subs:\n",
    "    print(\"Reading {}'s call data.\".format(sub))\n",
    "    annot = pd.read_csv(os.path.join(ge_dir, \"sourcedata/sub-{}/expr/SampleAnnot.csv\".format(sub)))\n",
    "    samples = list(annot['well_id'])\n",
    "    print(annot.groupby('slab_type')['slab_type'].count())\n",
    "    calls = pd.read_csv(os.path.join(ge_dir, \"sourcedata/sub-{}/expr/PACall.csv\".format(sub)), header=None, index_col=0)\n",
    "    calls.columns = samples\n",
    "    call_list.append(calls.loc[:, annot[annot['slab_type'] == 'CX']['well_id']])\n",
    "calls = pd.concat(call_list, axis=1)\n",
    "\n",
    "call_stats = pd.DataFrame(index=calls.index, columns=['num_called', ],\n",
    "    data = calls.apply(sum, axis=1),\n",
    ")\n",
    "call_stats['pct_called'] = call_stats['num_called'] / len(calls.columns)"
   ]
  },
  {
   "cell_type": "code",
   "execution_count": 5,
   "metadata": {},
   "outputs": [],
   "source": [
    "\"\"\" Filter calls and call_stats by only the probes we can map back to entrez_ids. \"\"\"\n",
    "\n",
    "# calls is a binary matrix of 45,871 probes x 2,748 cortical wellids\n",
    "calls = calls.loc[entrez_ids['probe_id'], :]\n",
    "\n",
    "# call_stats collapses wellids into a summary, by probe, of 'hits'.\n",
    "call_stats = call_stats.loc[entrez_ids['probe_id'], :]\n",
    "call_stats['gene'] = call_stats.index.map(entrez_ids[['probe_id', 'gene']].set_index('probe_id')['gene'].to_dict())"
   ]
  },
  {
   "cell_type": "code",
   "execution_count": 6,
   "metadata": {},
   "outputs": [],
   "source": [
    "# Build a function to filter probes based on % threshold\n",
    "def report_on_call_threshold(threshold):\n",
    "    print(\"Probes with > {:0.0%} of samples above noise: {:,} ({:0.0%}), <= {:0.0%} {:,} ({:0.0%})\".format(\n",
    "        threshold,\n",
    "        (call_stats['pct_called'] > threshold).sum(),\n",
    "        (call_stats['pct_called'] > threshold).sum() / len(call_stats),\n",
    "        threshold,\n",
    "        (call_stats['pct_called'] <= threshold).sum(),\n",
    "        (call_stats['pct_called'] <= threshold).sum() / len(call_stats),\n",
    "    ))\n",
    "    print(\"These {:,} low-call probes cover {:,} genes.\".format(\n",
    "        (call_stats['pct_called'] <= threshold).sum(),\n",
    "        len(set(call_stats[call_stats['pct_called'] <= threshold]['gene']))\n",
    "    ))\n",
    "    print(\"Removing them leaves {:,} high-call probes covering {:,} genes.\".format(\n",
    "        (call_stats['pct_called'] > threshold).sum(),\n",
    "        len(set(call_stats[call_stats['pct_called'] > threshold]['gene']))\n",
    "    ))\n",
    "\n",
    "def split_on_threshold(x, threshold):\n",
    "    pct = pd.Series(x.apply(sum, axis=1), index=x.index)\n",
    "    pct = pct / len(x.columns)\n",
    "    return {\n",
    "        'hi': list(pct[pct > threshold].index),\n",
    "        'lo': list(pct[pct <= threshold].index)\n",
    "    }"
   ]
  },
  {
   "cell_type": "code",
   "execution_count": 7,
   "metadata": {},
   "outputs": [],
   "source": [
    "split_on_50 = split_on_threshold(calls, 0.50)\n",
    "split_on_00 = split_on_threshold(calls, 0.00)"
   ]
  },
  {
   "cell_type": "code",
   "execution_count": 8,
   "metadata": {},
   "outputs": [
    {
     "name": "stdout",
     "output_type": "stream",
     "text": [
      "Starting with 45,871 probes,\n",
      "Arnatkeviciute's splitting on 50 results in 32010 hi and 13861 lo.\n",
      "Richiardi's splitting on 00 results in 45867 hi and 4 lo.\n"
     ]
    }
   ],
   "source": [
    "\"\"\" Report on results so far. \"\"\"\n",
    "\n",
    "print(\"Starting with {:,} probes,\".format(len(calls)))\n",
    "print(\"Arnatkeviciute's splitting on 50 results in {} hi and {} lo.\".format(len(split_on_50['hi']), len(split_on_50['lo'])))\n",
    "print(\"Richiardi's splitting on 00 results in {} hi and {} lo.\".format(len(split_on_00['hi']), len(split_on_00['lo'])))"
   ]
  },
  {
   "cell_type": "code",
   "execution_count": 9,
   "metadata": {},
   "outputs": [
    {
     "name": "stdout",
     "output_type": "stream",
     "text": [
      "There are 17,790 multi-probe genes in the set of annotated probes.\n",
      "There are 11,202 multi-probe genes after excluding low-call probes.\n",
      "Writing file with 32,010 probe_ids\n",
      "Writing file with 2,748 CX samples\n"
     ]
    }
   ],
   "source": [
    "# Lets just look at genes with multiple probes, like Arnatkeviciute, et al.\n",
    "pre_counts = entrez_ids.groupby('entrez_id')['entrez_id'].count()\n",
    "post_counts = entrez_ids[entrez_ids['probe_id'].isin(split_on_50['hi'])].groupby('entrez_id')['entrez_id'].count()\n",
    "print(\"There are {:,} multi-probe genes in the set of annotated probes.\".format(len(pre_counts[pre_counts > 1])))\n",
    "print(\"There are {:,} multi-probe genes after excluding low-call probes.\".format(len(post_counts[post_counts > 1])))\n",
    "\n",
    "print(\"Writing file with {:,} probe_ids\".format(len(entrez_ids[entrez_ids['probe_id'].isin(split_on_50['hi'])])))\n",
    "entrez_ids[entrez_ids['probe_id'].isin(split_on_50['hi'])].to_csv(\n",
    "    os.path.join(ge_dir, 'genome/filtered_entrez_ids.csv')\n",
    ")\n",
    "print(\"Writing file with {:,} CX samples\".format(len(calls.columns)))\n",
    "calls.loc[split_on_50['hi'], :].to_csv(\n",
    "    os.path.join(ge_dir, 'genome/filtered_calls.csv')\n",
    ")"
   ]
  },
  {
   "cell_type": "code",
   "execution_count": 10,
   "metadata": {},
   "outputs": [],
   "source": [
    "# Lets find out where Richiardi and Arnatkeviciute probes land vs calls\n",
    "rich_probes = pd.read_pickle(os.path.join(ge_dir, \"cache/richiardi-probes.df\"))\n",
    "rich_probes['pct_called'] = call_stats.reindex(rich_probes.index)['pct_called']\n",
    "arna_probes = pd.read_pickle(os.path.join(ge_dir, \"cache/fornito-probes.df\"))\n",
    "arna_probes['pct_called'] = call_stats.reindex(arna_probes.index)['pct_called']"
   ]
  },
  {
   "cell_type": "code",
   "execution_count": 11,
   "metadata": {},
   "outputs": [
    {
     "name": "stdout",
     "output_type": "stream",
     "text": [
      "Figure(540x288)\n"
     ]
    }
   ],
   "source": [
    "# Plot them visually\n",
    "fig, (ax1, ax2, ax3) = plt.subplots(3, sharex=True, figsize=(7.5, 4))\n",
    "sns.distplot(rich_probes['pct_called'].dropna(), ax=ax1)\n",
    "ax1.set_ylabel(\"Richiardi\")\n",
    "sns.distplot(arna_probes['pct_called'].dropna(), ax=ax2)\n",
    "ax2.set_ylabel(\"Arnatkeviciute\")\n",
    "sns.distplot(call_stats['pct_called'].dropna(), ax=ax3)\n",
    "ax3.set_ylabel(\"All\")\n",
    "fig.suptitle(\"Signal calls by probeset\")\n",
    "fig.savefig(os.path.join(base_dir, \"calls_by_probeset.png\"))\n",
    "print(fig)\n",
    "plt.close(fig)"
   ]
  },
  {
   "cell_type": "code",
   "execution_count": 12,
   "metadata": {},
   "outputs": [
    {
     "name": "stdout",
     "output_type": "stream",
     "text": [
      "Richiardi has 6,145 probes in his list that are ineligible for Aurina's\n",
      "Richiardi and Arnatkeviciute have 2,003 probes in common.\n",
      "Of those 2,003 probes, 1,928 agree and 75 disagree on which gene they match.\n",
      "  With 0, Richardi & Arnatkeviciute agree on re-annotation from original.\n",
      "  With 75, Richardi & Arnatkeviciute re-annotated from original differently.\n",
      "  With 0, Richardi re-annotated, but Arnatkeviciute agreed with original.\n",
      "  With 0, Arnatkeviciute re-annotated, but Richardi agreed with original.\n"
     ]
    }
   ],
   "source": [
    "# Get some numbers on how they differ\n",
    "overlapping_probes = list(set(rich_probes.index).intersection(set(arna_probes.index)))\n",
    "overlapping_genes = pd.DataFrame({\n",
    "    'arna': arna_probes.loc[overlapping_probes, 'entrez_id'],\n",
    "    'rich': rich_probes.loc[overlapping_probes, 'entrez_id'],\n",
    "    'orig': original_probes.set_index('probe_id').loc[overlapping_probes, 'entrez_id']\n",
    "}, index=overlapping_probes)\n",
    "\n",
    "print(\"Richiardi has {:,} probes in his list that are ineligible for Aurina's\".format(\n",
    "    len(rich_probes[rich_probes['pct_called'] < 0.50].index)\n",
    "))\n",
    "print(\"Richiardi and Arnatkeviciute have {:,} probes in common.\".format(\n",
    "    len(overlapping_probes)\n",
    ")) \n",
    "rich_vs_arna = overlapping_genes['rich'] == overlapping_genes['arna']\n",
    "rich_vs_orig = overlapping_genes['rich'] == overlapping_genes['orig']\n",
    "arna_vs_orig = overlapping_genes['arna'] == overlapping_genes['orig']\n",
    "print(\"Of those {:,} probes, {:,} agree and {:,} disagree on which gene they match.\".format(\n",
    "    len(overlapping_probes),\n",
    "    (rich_vs_orig & rich_vs_arna & arna_vs_orig).sum(),\n",
    "    (~(rich_vs_orig & rich_vs_arna & arna_vs_orig)).sum()\n",
    "))\n",
    "print(\"  With {:,}, Richardi & Arnatkeviciute agree on re-annotation from original.\".format(\n",
    "    (rich_vs_arna & ~rich_vs_orig).sum()\n",
    "))\n",
    "print(\"  With {:,}, Richardi & Arnatkeviciute re-annotated from original differently.\".format(\n",
    "    (~rich_vs_arna & ~rich_vs_orig & ~arna_vs_orig).sum()\n",
    "))\n",
    "print(\"  With {:,}, Richardi re-annotated, but Arnatkeviciute agreed with original.\".format(\n",
    "    (~rich_vs_orig & arna_vs_orig).sum()\n",
    "))\n",
    "print(\"  With {:,}, Arnatkeviciute re-annotated, but Richardi agreed with original.\".format(\n",
    "    (~arna_vs_orig & rich_vs_orig).sum()\n",
    "))"
   ]
  },
  {
   "cell_type": "code",
   "execution_count": 13,
   "metadata": {},
   "outputs": [
    {
     "data": {
      "text/plain": [
       "15745"
      ]
     },
     "execution_count": 13,
     "metadata": {},
     "output_type": "execute_result"
    }
   ],
   "source": [
    "len(arna_probes)"
   ]
  },
  {
   "cell_type": "code",
   "execution_count": 14,
   "metadata": {},
   "outputs": [
    {
     "data": {
      "text/plain": [
       "16906"
      ]
     },
     "execution_count": 14,
     "metadata": {},
     "output_type": "execute_result"
    }
   ],
   "source": [
    "len(rich_probes)"
   ]
  },
  {
   "cell_type": "markdown",
   "metadata": {},
   "source": [
    "This analysis reveals that Richiardi and Arnatkeviciute used different approaches to filtering out no-call probes. Richiardi only excluded 4 probes for never rising above noise-level. Arnatkeviciute excluded 13,861 for being below noise level in half of the locations. After this, only 2,003 probes are used in both studies (out of 15,745 or 16,906). This seems stunning to me, although we should assume that, roughly speaking, multiple probes representing the same gene should have similar expression levels. This process excludes entirely the ability to detect different transcriptions of the same gene."
   ]
  }
 ],
 "metadata": {
  "kernelspec": {
   "display_name": "schmidt_geconn",
   "language": "python",
   "name": "schmidt_geconn"
  },
  "language_info": {
   "codemirror_mode": {
    "name": "ipython",
    "version": 3
   },
   "file_extension": ".py",
   "mimetype": "text/x-python",
   "name": "python",
   "nbconvert_exporter": "python",
   "pygments_lexer": "ipython3",
   "version": "3.6.8"
  }
 },
 "nbformat": 4,
 "nbformat_minor": 4
}
