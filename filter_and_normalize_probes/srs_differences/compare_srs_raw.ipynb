{
 "cells": [
  {
   "cell_type": "markdown",
   "metadata": {},
   "source": [
    "# Compare some SRS-normalized results to our AHBA-direct results."
   ]
  },
  {
   "cell_type": "code",
   "execution_count": 1,
   "metadata": {},
   "outputs": [],
   "source": [
    "\"\"\" Set up the context and globals. \"\"\"\n",
    "\n",
    "# Result files were copied to this directory, so no need for a path.\n",
    "srs_file = \"sub-all_comp-hcpniftismoothgrandmeansim_mask-16_norm-none_adj-none.tsv\"\n",
    "raw_file = \"sub-all_comp-hcpniftismoothgrandmeansim_mask-16_norm-srs_adj-none.tsv\""
   ]
  },
  {
   "cell_type": "code",
   "execution_count": 2,
   "metadata": {},
   "outputs": [],
   "source": [
    "\"\"\" Load the files. \"\"\"\n",
    "\n",
    "import pandas as pd\n",
    "\n",
    "srs_df = pd.read_csv(srs_file, sep=\"\\t\")\n",
    "srs_df.rename(columns={'Unnamed: 0': 'whacked_at'}, inplace=True)\n",
    "raw_df = pd.read_csv(raw_file, sep=\"\\t\")\n",
    "raw_df.rename(columns={'Unnamed: 0': 'whacked_at'}, inplace=True)\n"
   ]
  },
  {
   "cell_type": "code",
   "execution_count": 19,
   "metadata": {},
   "outputs": [
    {
     "name": "stdout",
     "output_type": "stream",
     "text": [
      "Top 15745. tau = 0.8646, p = 0.0000; 100.00% overlap\n",
      "Top 7872. tau = 0.0353, p = 0.0000; 94.92% overlap\n",
      "Top 3936. tau = 0.0240, p = 0.0239; 91.23% overlap\n",
      "Top 1968. tau = 0.0145, p = 0.3346; 84.81% overlap\n",
      "Top 984. tau = 0.0828, p = 0.0001; 85.47% overlap\n",
      "Top 492. tau = 0.0335, p = 0.2661; 84.35% overlap\n",
      "Top 246. tau = 0.1326, p = 0.0019; 78.05% overlap\n",
      "Top 123. tau = 0.1713, p = 0.0050; 79.67% overlap\n"
     ]
    }
   ],
   "source": [
    "\"\"\" Perhaps if we drop the bottom half, 3/4, 7/8, ...\n",
    "    we can remove the noise and measure just the top genes. \"\"\"\n",
    "\n",
    "from scipy.stats import kendalltau\n",
    "\n",
    "for threshold in range(8):\n",
    "    \"\"\" Use sequentially smaller portions of the tops of the ranked lists, calculating Kendall tau and overlap each time. \"\"\"\n",
    "    t = int(len(raw_df) / 2**threshold)\n",
    "    raw_ranks = raw_df[['whacked_at', 'probe_id']][:t].set_index('probe_id').sort_index()['whacked_at']\n",
    "    srs_ranks = srs_df[['whacked_at', 'probe_id']][:t].set_index('probe_id').sort_index()['whacked_at']\n",
    "    tau, p = kendalltau(raw_ranks, srs_ranks)\n",
    "    \n",
    "    overlap = len(set(raw_ranks.index).intersection(set(srs_ranks.index))) / len(raw_ranks.index)\n",
    "    # print(\"{} raw, {} srs, {} intersection\".format(\n",
    "    #     len(set(raw_ranks.index)), len(set(srs_ranks.index)),\n",
    "    #     len(set(raw_ranks.index).intersection(set(srs_ranks.index)))\n",
    "    # ))\n",
    "    print(\"Top {}. tau = {:0.4f}, p = {:0.4f}; {:0.2%} overlap\".format(t, tau, p, overlap))"
   ]
  },
  {
   "cell_type": "code",
   "execution_count": 4,
   "metadata": {},
   "outputs": [
    {
     "name": "stdout",
     "output_type": "stream",
     "text": [
      "The mean raw ranking for the top 100 SRS genes: 98.32; mid 100: 7627.56; bottom 100: 15606.63.\n",
      "The mean SRS ranking for the top 100 raw genes: 207.17; mid 100: 8012.04; bottom 100: 15674.95.\n"
     ]
    }
   ],
   "source": [
    "\"\"\" K. Maybe not. What about the average rank of the top 100 genes vs the bottom 100? \"\"\"\n",
    "\n",
    "import numpy as np\n",
    "\n",
    "top_100_srs = srs_df['probe_id'][0:100]\n",
    "mid_100_srs = srs_df['probe_id'][int(len(srs_df)/2) - 50:int(len(srs_df)/2) + 50]\n",
    "bot_100_srs = srs_df['probe_id'][-100:]\n",
    "print(\"The mean raw ranking for the top 100 SRS genes: {}; mid 100: {}; bottom 100: {}.\".format(\n",
    "    np.mean(raw_df[raw_df['probe_id'].isin(top_100_srs)].index),\n",
    "    np.mean(raw_df[raw_df['probe_id'].isin(mid_100_srs)].index),\n",
    "    np.mean(raw_df[raw_df['probe_id'].isin(bot_100_srs)].index),\n",
    "))\n",
    "\n",
    "top_100_raw = raw_df['probe_id'][0:100]\n",
    "mid_100_raw = raw_df['probe_id'][int(len(raw_df)/2) - 50:int(len(raw_df)/2) + 50]\n",
    "bot_100_raw = raw_df['probe_id'][-100:]\n",
    "print(\"The mean SRS ranking for the top 100 raw genes: {}; mid 100: {}; bottom 100: {}.\".format(\n",
    "    np.mean(srs_df[srs_df['probe_id'].isin(top_100_raw)].index),\n",
    "    np.mean(srs_df[srs_df['probe_id'].isin(mid_100_raw)].index),\n",
    "    np.mean(srs_df[srs_df['probe_id'].isin(bot_100_raw)].index),\n",
    "))\n"
   ]
  }
 ],
 "metadata": {
  "kernelspec": {
   "display_name": "schmidt_geconn",
   "language": "python",
   "name": "schmidt_geconn"
  },
  "language_info": {
   "codemirror_mode": {
    "name": "ipython",
    "version": 3
   },
   "file_extension": ".py",
   "mimetype": "text/x-python",
   "name": "python",
   "nbconvert_exporter": "python",
   "pygments_lexer": "ipython3",
   "version": "3.6.8"
  }
 },
 "nbformat": 4,
 "nbformat_minor": 4
}
