{
 "cells": [
  {
   "cell_type": "markdown",
   "metadata": {},
   "source": [
    "# Convert gene symbols to entrezids"
   ]
  },
  {
   "cell_type": "code",
   "execution_count": 1,
   "metadata": {},
   "outputs": [],
   "source": [
    "\"\"\" This notebook was written for one purpose, translating gene symbols to entrez ids\n",
    "    in these four files. The map could be used for future translation needs, though. \"\"\"\n",
    "\n",
    "import pandas as pd\n",
    "from pygest.convenience import create_id_to_symbol_map, create_symbol_to_id_map\n",
    "\n",
    "\n",
    "files_listing_genes_by_symbol = [\n",
    "    \"./richiardi_136_by-symbol.tsv\",\n",
    "    \"./wang_all38_by-symbol.tsv\",\n",
    "    \"./wang_pos12_by-symbol.tsv\",\n",
    "    \"./wang_neg26_by-symbol.tsv\",\n",
    "]"
   ]
  },
  {
   "cell_type": "code",
   "execution_count": 2,
   "metadata": {},
   "outputs": [],
   "source": [
    "\"\"\" Build a symbol-to-id map and apply it to each file. \"\"\"\n",
    "\n",
    "mapper = create_symbol_to_id_map()\n",
    "\n",
    "for symbol_file in files_listing_genes_by_symbol:\n",
    "    df = pd.read_csv(symbol_file, header=None)\n",
    "    df['id'] = df[0].map(mapper)\n",
    "    df[['id']].to_csv(symbol_file.replace(\"symbol\", \"entrezid\"), index=False, header=False)"
   ]
  },
  {
   "cell_type": "code",
   "execution_count": null,
   "metadata": {},
   "outputs": [],
   "source": []
  }
 ],
 "metadata": {
  "kernelspec": {
   "display_name": "schmidt_geconn",
   "language": "python",
   "name": "schmidt_geconn"
  },
  "language_info": {
   "codemirror_mode": {
    "name": "ipython",
    "version": 3
   },
   "file_extension": ".py",
   "mimetype": "text/x-python",
   "name": "python",
   "nbconvert_exporter": "python",
   "pygments_lexer": "ipython3",
   "version": "3.6.8"
  }
 },
 "nbformat": 4,
 "nbformat_minor": 4
}
