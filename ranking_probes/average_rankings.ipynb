{
 "cells": [
  {
   "cell_type": "markdown",
   "metadata": {},
   "source": [
    "# Rank probes into a list, save out the top half\n",
    "\n",
    "We need a ranked list of probes/genes for many reasons. Top of mind as I write this is to generate a list of the top 50% of our probes so we can truncate the computationally expensive process of running permutation tests on huge matrices of gene expression values. If we only run the top half, it can cut the time spent on each run by XXX. This code will average the ranking of each REAL optimization run, and then we can run permutations and shuffles on only the best genes.\n",
    "\n",
    "Which results are used to generate rankings can be modified by editing the path in the 'context' block below."
   ]
  },
  {
   "cell_type": "code",
   "execution_count": 1,
   "metadata": {},
   "outputs": [],
   "source": [
    "\"\"\" imports \"\"\"\n",
    "\n",
    "import pandas as pd\n",
    "import os\n"
   ]
  },
  {
   "cell_type": "code",
   "execution_count": 2,
   "metadata": {},
   "outputs": [],
   "source": [
    "\"\"\" context \"\"\"\n",
    "\n",
    "PYGEST_DATA = \"/data\"\n",
    "BASE_DIR = \"derivatives/sub-all_hem-A_samp-glasser_prob-fornito/parby-wellid_splby-wellid_batch-train{:05d}/tgt-max_algo-smrt\"\n",
    "FILE_NAME = \"sub-all_comp-hcpniftismoothgrandmeansim_mask-{}_norm-srs_adj-none.tsv\"\n"
   ]
  },
  {
   "cell_type": "code",
   "execution_count": 3,
   "metadata": {},
   "outputs": [
    {
     "name": "stdout",
     "output_type": "stream",
     "text": [
      "Loaded 16 dataframes with none mask\n",
      "Loaded 16 dataframes with 16 mask\n",
      "Loaded 16 dataframes with 32 mask\n",
      "Loaded 16 dataframes with 64 mask\n"
     ]
    }
   ],
   "source": [
    "\"\"\" load all the files, ranking probes as we go \"\"\"\n",
    "\n",
    "dfs = {}\n",
    "for mask in ['none', '16', '32', '64', ]:\n",
    "    dfs[mask] = []\n",
    "    for split in range(200, 216, 1):\n",
    "        full_path = os.path.join(PYGEST_DATA, BASE_DIR.format(split), FILE_NAME.format(mask))\n",
    "        if os.path.isfile(full_path):\n",
    "            df = pd.read_csv(full_path, sep='\\t')[['probe_id', ]]\n",
    "            df['rank_{:05d}'.format(split)] = range(1, len(df) + 1, 1)\n",
    "            df = df[['probe_id', 'rank_{:05d}'.format(split), ]].set_index('probe_id')\n",
    "            dfs[mask].append(df.sort_index())\n",
    "        else:\n",
    "            print(\"DOES NOT EXIST: {}\".format(full_path))\n",
    "        \n",
    "    print(\"Loaded {} dataframes with {} mask\".format(len(dfs[mask]), mask))\n",
    "    dfs['df-' + mask] = pd.concat(dfs[mask], axis=1)\n"
   ]
  },
  {
   "cell_type": "code",
   "execution_count": 4,
   "metadata": {},
   "outputs": [],
   "source": [
    "\"\"\" average the ranking for each probe, and create an overall ranked list. \"\"\"\n",
    "\n",
    "for mask in ['none', '16', '32', '64', ]:\n",
    "    dfs['df-' + mask]['rank'] = dfs['df-' + mask].mean(axis=1)\n",
    "    dfs['df-' + mask] = dfs['df-' + mask].sort_values('rank')\n"
   ]
  },
  {
   "cell_type": "code",
   "execution_count": 5,
   "metadata": {},
   "outputs": [
    {
     "name": "stdout",
     "output_type": "stream",
     "text": [
      "Top 50% of probes have been written to top_half_probes_hcpww00ss.csv\n",
      "Top 50% of probes have been written to top_half_probes_hcpww16ss.csv\n",
      "Top 50% of probes have been written to top_half_probes_hcpww32ss.csv\n",
      "Top 50% of probes have been written to top_half_probes_hcpww64ss.csv\n"
     ]
    }
   ],
   "source": [
    "\"\"\" Save out the top half of the probes to a file. \"\"\"\n",
    "\n",
    "for mask in ['none', '16', '32', '64', ]:\n",
    "    mask_digits = '00' if mask == 'none' else mask\n",
    "    file_name = \"top_half_probes_hcpww{}ss.csv\".format(mask_digits)\n",
    "    with open(file_name, \"wt\") as f:\n",
    "        for probe in df.index[:int(len(df.index) / 2)]:\n",
    "            f.write(\"{}\\n\".format(probe))\n",
    "\n",
    "    print(\"Top 50% of probes have been written to {}\".format(file_name))"
   ]
  },
  {
   "cell_type": "code",
   "execution_count": 6,
   "metadata": {},
   "outputs": [
    {
     "name": "stdout",
     "output_type": "stream",
     "text": [
      "Top decile (ever ranked < 1,574) probes (4,630) have been written to top_decile_probes_hcpww00ss.csv\n",
      "Top decile (ever ranked < 1,574) probes (4,601) have been written to top_decile_probes_hcpww16ss.csv\n",
      "Top decile (ever ranked < 1,574) probes (4,708) have been written to top_decile_probes_hcpww32ss.csv\n",
      "Top decile (ever ranked < 1,574) probes (4,768) have been written to top_decile_probes_hcpww64ss.csv\n"
     ]
    }
   ],
   "source": [
    "\"\"\" Save out the top >10% (all probes that ever make the top 10%) of the probes to a file. \"\"\"\n",
    "\n",
    "for mask in ['none', '16', '32', '64', ]:\n",
    "    mask_digits = '00' if mask == 'none' else mask\n",
    "    dfs['df-' + mask]['min_rank'] = dfs['df-' + mask].min(axis=1)\n",
    "    dfs['df-' + mask]['max_rank'] = dfs['df-' + mask].min(axis=1)\n",
    "    decile_threshold = len(dfs['df-' + mask]) / 10.0\n",
    "    df_top_decile = dfs['df-' + mask][dfs['df-' + mask]['min_rank'] < decile_threshold]\n",
    "\n",
    "    file_name = \"top_decile_probes_hcpww{}ss.csv\".format(mask_digits)\n",
    "    with open(file_name, \"wt\") as f:\n",
    "        for probe in df_top_decile.index:\n",
    "            f.write(\"{}\\n\".format(probe))\n",
    "\n",
    "    print(\"Top decile (ever ranked < {:0,.0f}) probes ({:,}) have been written to {}\".format(\n",
    "        decile_threshold, len(df_top_decile), file_name\n",
    "    ))"
   ]
  },
  {
   "cell_type": "markdown",
   "metadata": {},
   "source": [
    "# What to do from here\n",
    "\n",
    "The eight files written above should be copied to wherever PyGEST is being run. I chose to put it into <code>\\$PYGEST_DATA/derivatives/sub-all_hem-A_samp-glasser_prob-fornito/</code>. It can then be used by calling <code>pygest push ... --only-probes-in \\$PYGEST_DATA/derivatives/sub-all_hem-A_samp-glasser_prob-fornito/top_half_probes_hcpww16ss.csv ...</code>. In that way, it will start whack-a-probe with only the probes in the list provided, rather than all 15,745."
   ]
  },
  {
   "cell_type": "markdown",
   "metadata": {},
   "source": [
    "----\n",
    "\n",
    "# Testing things\n",
    "\n",
    "Code below here is not necessary, but can be used to test code above."
   ]
  },
  {
   "cell_type": "code",
   "execution_count": 7,
   "metadata": {},
   "outputs": [
    {
     "data": {
      "text/plain": [
       "Int64Index([0], dtype='int64')"
      ]
     },
     "execution_count": 7,
     "metadata": {},
     "output_type": "execute_result"
    }
   ],
   "source": [
    "\"\"\" Test reading of the file as a csv \"\"\"\n",
    "\n",
    "input_probes = pd.read_csv(file_name, header=None)\n",
    "input_probes.columns"
   ]
  },
  {
   "cell_type": "code",
   "execution_count": null,
   "metadata": {},
   "outputs": [],
   "source": []
  }
 ],
 "metadata": {
  "kernelspec": {
   "display_name": "schmidt_geconn",
   "language": "python",
   "name": "schmidt_geconn"
  },
  "language_info": {
   "codemirror_mode": {
    "name": "ipython",
    "version": 3
   },
   "file_extension": ".py",
   "mimetype": "text/x-python",
   "name": "python",
   "nbconvert_exporter": "python",
   "pygments_lexer": "ipython3",
   "version": "3.6.8"
  }
 },
 "nbformat": 4,
 "nbformat_minor": 4
}
