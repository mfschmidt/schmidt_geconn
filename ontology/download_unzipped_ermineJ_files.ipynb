{
 "cells": [
  {
   "cell_type": "markdown",
   "metadata": {},
   "source": [
    "# Download ontology and annotation files for ermineJ\n",
    "\n",
    "Let python unzip the files to see if I can get readable text out of them."
   ]
  },
  {
   "cell_type": "code",
   "execution_count": 1,
   "metadata": {},
   "outputs": [],
   "source": [
    "ontology = {\n",
    "    'url': 'http://archive.geneontology.org/latest-termdb/go_daily-termdb.rdf-xml.gz',\n",
    "    'path': './2012-12-02-erminej_go.rdf-xml',\n",
    "}\n",
    "annotation = {\n",
    "    'url': 'https://gemma.msl.ubc.ca/annots/Generic_human_ncbiIds_noParents.an.txt.gz',\n",
    "    'path': './2012-12-02-erminej_human_annotation_entrezid.txt',\n",
    "}"
   ]
  },
  {
   "cell_type": "code",
   "execution_count": 2,
   "metadata": {},
   "outputs": [],
   "source": [
    "\"\"\" Download a fresh version of each compressed file and save it decompressed. \"\"\"\n",
    "\n",
    "import urllib.request as request\n",
    "import gzip\n",
    "\n",
    "for data_file in [ontology, annotation, ]:\n",
    "    response = request.urlopen(data_file['url'])\n",
    "    with open(data_file['path'], \"wb\") as f:\n",
    "        f.write(gzip.decompress(response.read()))\n"
   ]
  },
  {
   "cell_type": "code",
   "execution_count": null,
   "metadata": {},
   "outputs": [],
   "source": []
  },
  {
   "cell_type": "code",
   "execution_count": null,
   "metadata": {},
   "outputs": [],
   "source": []
  },
  {
   "cell_type": "code",
   "execution_count": null,
   "metadata": {},
   "outputs": [],
   "source": []
  },
  {
   "cell_type": "code",
   "execution_count": null,
   "metadata": {},
   "outputs": [],
   "source": []
  }
 ],
 "metadata": {
  "kernelspec": {
   "display_name": "schmidt_geconn",
   "language": "python",
   "name": "schmidt_geconn"
  },
  "language_info": {
   "codemirror_mode": {
    "name": "ipython",
    "version": 3
   },
   "file_extension": ".py",
   "mimetype": "text/x-python",
   "name": "python",
   "nbconvert_exporter": "python",
   "pygments_lexer": "ipython3",
   "version": "3.6.8"
  }
 },
 "nbformat": 4,
 "nbformat_minor": 4
}
