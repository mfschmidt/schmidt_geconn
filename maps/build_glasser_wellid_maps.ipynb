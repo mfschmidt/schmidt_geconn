{
 "cells": [
  {
   "cell_type": "markdown",
   "metadata": {},
   "source": [
    "# Build a map from wellid to glasser parcel"
   ]
  },
  {
   "cell_type": "code",
   "execution_count": 1,
   "metadata": {},
   "outputs": [],
   "source": [
    "import os\n",
    "import scipy\n",
    "import pandas as pd\n",
    "import numpy as np\n",
    "import pickle\n",
    "from pygest import algorithms\n",
    "from statistics import mean, StatisticsError\n"
   ]
  },
  {
   "cell_type": "code",
   "execution_count": 2,
   "metadata": {},
   "outputs": [],
   "source": [
    "\"\"\" Data inputs \"\"\"\n",
    "\n",
    "PYGEST_DATA = \"/data\"\n",
    "CODEDIR = \"/home/mike/Dropbox/projects/GE-Conn/HCP_FC/Glasser_GroupAvg\"\n",
    "DATADIR = \"/home/mike/projects/AHBAProcessing/proc_data\"\n",
    "\n",
    "# A list of 360 labels of 180 Glasser parcels per hemisphere\n",
    "glasser_label_file = os.path.join(CODEDIR, \"HCP_GroupAvg_Glasser_Labels.txt\")\n",
    "\n",
    "# A label with x,y,z coordinates for 1280 wellids that can be mapped to Glasser parcels\n",
    "wellid_coord_file = os.path.join(DATADIR, \"ROIxGene_HCP_INT.mat.SampleCoordinates.csv\")\n",
    "\n",
    "# A pickled dataframe holding all AHBA-provided information on each sample (wellid)\n",
    "all_ahba_sample_dataframe = os.path.join(PYGEST_DATA, \"cache/all-samples.df\")"
   ]
  },
  {
   "cell_type": "code",
   "execution_count": 3,
   "metadata": {},
   "outputs": [],
   "source": [
    "def glasser_parcel_map():\n",
    "    \"\"\" Read in a list of glasser parcel labels and return a 180-item int-to-label dict for mapping. \"\"\"\n",
    "    \n",
    "    labels = pd.read_csv(glasser_label_file, header=None)\n",
    "    left_labels = labels[180:][0]\n",
    "    left_labels.index = range(1, 181)\n",
    "    \n",
    "    return left_labels.to_dict()\n",
    "\n",
    "\n",
    "def aurina_coordinates_to_dataframe():\n",
    "    \"\"\" Read in wellid x,y,z coordinates and average them over the glasser parcel they map to \"\"\"\n",
    "    \n",
    "    coords = pd.read_csv(wellid_coord_file, header=None)\n",
    "    coords.columns = ['parcel', 'x', 'y', 'z']\n",
    "    coords['mni_xyz'] = [(x, y, z) for x, y, z in coords[['x', 'y', 'z']].values]\n",
    "    \n",
    "    parcel_coords = coords[['parcel', 'x', 'y', 'z']].groupby(['parcel']).mean()\n",
    "    parcel_coords['mni_xyz'] = [(x, y, z) for x, y, z in parcel_coords[['x', 'y', 'z']].values]\n",
    "\n",
    "    parcel_coords.index = parcel_coords.index.map(glasser_parcel_map())\n",
    "    \n",
    "    return parcel_coords, coords\n",
    "\n",
    "\n",
    "def dist_3d(to_triple, from_triple):\n",
    "    \"\"\" Return the Euclidean distance between two 3D vectors \"\"\"\n",
    "    \n",
    "    return scipy.spatial.distance.euclidean(\n",
    "        [to_triple[0], to_triple[1], to_triple[2]],\n",
    "        [from_triple[0], from_triple[1], from_triple[2]]\n",
    "    )\n",
    "\n",
    "\n",
    "def wellid_from_xyz(series_of_triples, samples):\n",
    "    \"\"\" Return the wellid from its x,y,z coordinates \"\"\"\n",
    "    \n",
    "    dists = samples['mni_xyz'].apply(\n",
    "        dist_3d,\n",
    "        args=( (series_of_triples[0], series_of_triples[1], series_of_triples[2]), )\n",
    "    )\n",
    "    \n",
    "    # For every sample, only one wellid should be within a mm of it. That's its id; return it.\n",
    "    if len(dists[dists < 0.500]) < 1:\n",
    "        print(\"No mapping for \" + str(series_of_triples))\n",
    "        return 0.0\n",
    "    elif len(dists[dists < 0.500]) == 1:\n",
    "        return dists[dists < 0.500].index[0]\n",
    "    else:\n",
    "        print(\"Mapping isn't 1-to-1; {} has {} matches.\".format(\n",
    "            str(series_of_triples), len(dists[dists < 0.500])\n",
    "        ))\n",
    "        return 0.0\n",
    "    \n",
    "    \n",
    "def sample_to_parcel_map(parcels):\n",
    "    \"\"\" Given a map from Glasser parcel to wellid, return a map from wellid to Glasser parcel. \"\"\"\n",
    "    \n",
    "    with open(all_ahba_sample_dataframe, 'rb') as f:\n",
    "        samples = pickle.load(f)\n",
    "    samples = samples[samples[\"side\"] == \"L\"]\n",
    "    \n",
    "    wellid_to_parcel_map = parcels['parcel'].map(glasser_parcel_map())\n",
    "    wellid_to_parcel_map.index = parcels['mni_xyz'].apply(\n",
    "        wellid_from_xyz, args=( samples, ),\n",
    "    )\n",
    "    \n",
    "    return wellid_to_parcel_map.to_dict()\n",
    "\n"
   ]
  },
  {
   "cell_type": "code",
   "execution_count": 4,
   "metadata": {},
   "outputs": [],
   "source": [
    "samp_glasser, samp_preglasser = aurina_coordinates_to_dataframe()\n",
    "map_wellid_to_parcel = sample_to_parcel_map(samp_preglasser)\n"
   ]
  },
  {
   "cell_type": "code",
   "execution_count": 5,
   "metadata": {},
   "outputs": [],
   "source": [
    "# Write out the map of 1,280 wellids as keys, each with its corresponding Glasser parcel as value.\n",
    "with open(\"./wellid_to_glasser.map\", \"wb\") as f:\n",
    "    pickle.dump(map_wellid_to_parcel, f)\n",
    "    "
   ]
  },
  {
   "cell_type": "code",
   "execution_count": null,
   "metadata": {},
   "outputs": [],
   "source": []
  }
 ],
 "metadata": {
  "kernelspec": {
   "display_name": "schmidt_geconn",
   "language": "python",
   "name": "schmidt_geconn"
  },
  "language_info": {
   "codemirror_mode": {
    "name": "ipython",
    "version": 3
   },
   "file_extension": ".py",
   "mimetype": "text/x-python",
   "name": "python",
   "nbconvert_exporter": "python",
   "pygments_lexer": "ipython3",
   "version": "3.6.8"
  }
 },
 "nbformat": 4,
 "nbformat_minor": 4
}
