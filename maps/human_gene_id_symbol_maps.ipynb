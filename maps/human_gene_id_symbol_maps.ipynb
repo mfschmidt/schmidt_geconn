{
 "cells": [
  {
   "cell_type": "markdown",
   "metadata": {},
   "source": [
    "# Create conversion maps from human genome files\n",
    "\n",
    "Human gene info can be downloaded from ftp://ftp.ncbi.nih.gov/gene/DATA/GENE_INFO/Mammalia/Homo_sapiens.gene_info.gz and gunzipped to a text file. This text file can be parsed with this notebook to create python dict objects used to map any entrez_id to a gene_symbol or vice-versa.\n",
    "\n",
    "Some of these functions are copied from PyGEST, and cleaned up for more general use."
   ]
  },
  {
   "cell_type": "code",
   "execution_count": 2,
   "metadata": {},
   "outputs": [],
   "source": [
    "\"\"\" For this notebook, load the gene_info file and keep it in memory. \"\"\"\n",
    "\n",
    "import pandas as pd\n",
    "\n",
    "gene_info_file='/data/sourcedata/Homo_sapiens.gene_info'\n",
    "\n",
    "human_genome_info = pd.read_csv(gene_info_file, delimiter='\\t')\n",
    "human_genome_info = human_genome_info.set_index('GeneID')\n"
   ]
  },
  {
   "cell_type": "code",
   "execution_count": 3,
   "metadata": {},
   "outputs": [],
   "source": [
    "def id_to_symbol_map():\n",
    "    return human_genome_info['Symbol'].to_dict()\n"
   ]
  },
  {
   "cell_type": "code",
   "execution_count": 5,
   "metadata": {},
   "outputs": [],
   "source": [
    "def symbol_to_id_map(use_synonyms=True, print_dupes=False):\n",
    "    \"\"\"\n",
    "    Load gene info file and convert it to a dictionary allowing rapid entrez_id lookup from symbols\n",
    "\n",
    "    :param use_synonyms: Set to False to only use gene symbols from the symbol column. By default, synonyms match too.\n",
    "    :param print_dupes: Set to True to print out each time an entrez_id is overwritten during map creation.\n",
    "    :return: dictionary mapping symbols to entrez ids\n",
    "    \"\"\"\n",
    "\n",
    "    syn_map = {}\n",
    "    sid_map = {}\n",
    "    symbols = set()\n",
    "    \n",
    "    # Map synonyms first. They can later be overwritten by primary symbols\n",
    "    if use_synonyms:\n",
    "        for i, row in human_genome_info.sort_index(ascending=False).iterrows():\n",
    "            for symbol in row['Synonyms'].split(\"|\"):\n",
    "                symbols.add(symbol)\n",
    "                # Store each synonymous symbol string as a key in the dictionary,\n",
    "                if symbol in syn_map.keys() and row.name != syn_map[symbol]:\n",
    "                    if print_dupes:\n",
    "                        print(\"  appending synonym '{}' to {{{}:{}}}\".format(row.name, symbol, syn_map[symbol]))\n",
    "                    if isinstance(syn_map[symbol], list):\n",
    "                        syn_map[symbol].append(row.name)\n",
    "                    else:\n",
    "                        syn_map[symbol] = [syn_map[symbol], row.name]\n",
    "                else:\n",
    "                    syn_map[symbol] = row.name\n",
    "\n",
    "    # Reverse-map Entrez IDs and Symbols\n",
    "    for i, row in human_genome_info.sort_index(ascending=False).iterrows():\n",
    "        symbols.add(row['Symbol'])\n",
    "        if row['Symbol'] in sid_map.keys() and row.name != sid_map[row['Symbol']]:\n",
    "            if print_dupes:\n",
    "                print(\"  appending id '{}' to {{{}:{}}}\".format(row.name, row['Symbol'], sid_map[row['Symbol']]))\n",
    "            if isinstance(sid_map[row['Symbol']], list):\n",
    "                sid_map[row['Symbol']].append(row.name)\n",
    "            else:\n",
    "                sid_map[row['Symbol']] = [sid_map[row['Symbol']], row.name, ]\n",
    "        # Store the canonical symbol string as a key in the dictionary\n",
    "        else:\n",
    "            sid_map[row['Symbol']] = row.name\n",
    "\n",
    "    # Remove the empty symbol\n",
    "    try:\n",
    "        symbols.remove(\"-\")\n",
    "    except KeyError:\n",
    "        pass\n",
    "\n",
    "    # Determine the appropriate entrez_id to use for each gene symbol.\n",
    "    symbol_list = []\n",
    "    for gene in sorted(list(symbols)):\n",
    "        this_gene = {'gene': gene, 'syn_hits': 0, 'id_hits': 0}\n",
    "        # Try synonyms first, then they can be overwritten if necessary.\n",
    "        try:\n",
    "            if isinstance(syn_map[gene], list):\n",
    "                this_gene['entrez_id'] = 0\n",
    "                this_gene['syn_id'] = None\n",
    "                this_gene['syn_hits'] = len(syn_map[gene])\n",
    "            else:\n",
    "                this_gene['entrez_id'] = int(syn_map[gene])\n",
    "                this_gene['syn_id'] = int(syn_map[gene])\n",
    "                this_gene['syn_hits'] = 1\n",
    "        except KeyError:\n",
    "            pass\n",
    "        # IDs are priority. If we find one, overwrite a synonym.\n",
    "        try:\n",
    "            if isinstance(sid_map[gene], list):\n",
    "                this_gene['entrez_id'] = 0\n",
    "                this_gene['sid_id'] = None\n",
    "                this_gene['id_hits'] = len(sid_map[gene])\n",
    "            else:\n",
    "                this_gene['entrez_id'] = int(sid_map[gene])\n",
    "                this_gene['sid_id'] = int(sid_map[gene])\n",
    "                this_gene['id_hits'] = 1\n",
    "        except KeyError:\n",
    "            # No id, there may already be a synonym. If so, leave it alone.\n",
    "            pass\n",
    "        symbol_list.append(this_gene)\n",
    "\n",
    "    # Manually add a few that are in AHBA, but not in the NCBI file.\n",
    "    symbol_list.append({'gene': 'FLJ23867', 'entrez_id': 200058})\n",
    "    symbol_list.append({'gene': 'FLJ37035', 'entrez_id': 399821})\n",
    "    symbol_list.append({'gene': 'FLJ21408', 'entrez_id': 400512})\n",
    "    symbol_list.append({'gene': 'PP14571', 'entrez_id': 100130449})\n",
    "\n",
    "    # Convert to a dataframe, report stats, and update the dictionary.\n",
    "    df_symbols = pd.DataFrame(data=symbol_list)\n",
    "    if use_synonyms:\n",
    "        print(\"Individually, {} synonyms, {} ids\".format(len(syn_map), len(sid_map)))\n",
    "        print(\"Combined, {} synonyms, {} ids\".format(\n",
    "            len(df_symbols[df_symbols['syn_id'].notnull()]), len(df_symbols[df_symbols['sid_id'].notnull()])\n",
    "        ))\n",
    "    else:\n",
    "        print(\"Individually, {} ids\".format(len(sid_map)))\n",
    "        print(\"Combined, {} ids\".format(len(df_symbols[df_symbols['sid_id'].notnull()])))\n",
    "    print(\"{} good keys. {} have ambiguous (multiple) mappings, {} nulls\".format(\n",
    "        len(df_symbols[df_symbols['entrez_id'] > 0]),\n",
    "        len(df_symbols[df_symbols['entrez_id'] == 0]),\n",
    "        len(df_symbols[df_symbols['entrez_id'].isnull()]),\n",
    "    ))\n",
    "\n",
    "    return df_symbols.set_index('gene')['entrez_id'].to_dict()\n",
    "\n",
    "\n"
   ]
  },
  {
   "cell_type": "code",
   "execution_count": 10,
   "metadata": {},
   "outputs": [],
   "source": [
    "\"\"\" Create an id to symbol map and save it to disk. \"\"\"\n",
    "\n",
    "import pickle\n",
    "\n",
    "i_s = id_to_symbol_map()\n",
    "with open(\"./id_to_symbol_map.dict\", \"wb\") as f:\n",
    "    pickle.dump(i_s, f)"
   ]
  },
  {
   "cell_type": "code",
   "execution_count": 11,
   "metadata": {},
   "outputs": [
    {
     "name": "stdout",
     "output_type": "stream",
     "text": [
      "Individually, 64297 synonyms, 61287 ids\n",
      "Combined, 61056 synonyms, 61236 ids\n",
      "120953 good keys. 3101 have ambiguous (multiple) mappings, 0 nulls\n"
     ]
    }
   ],
   "source": [
    "\"\"\" Create a symbol to id map and save it to disk. \"\"\"\n",
    "\n",
    "import pickle\n",
    "\n",
    "s_i = symbol_to_id_map()\n",
    "with open(\"./symbol_to_id_map.dict\", \"wb\") as f:\n",
    "    pickle.dump(s_i, f)"
   ]
  },
  {
   "cell_type": "code",
   "execution_count": null,
   "metadata": {},
   "outputs": [],
   "source": []
  }
 ],
 "metadata": {
  "kernelspec": {
   "display_name": "schmidt_geconn",
   "language": "python",
   "name": "schmidt_geconn"
  },
  "language_info": {
   "codemirror_mode": {
    "name": "ipython",
    "version": 3
   },
   "file_extension": ".py",
   "mimetype": "text/x-python",
   "name": "python",
   "nbconvert_exporter": "python",
   "pygments_lexer": "ipython3",
   "version": "3.6.8"
  }
 },
 "nbformat": 4,
 "nbformat_minor": 4
}
