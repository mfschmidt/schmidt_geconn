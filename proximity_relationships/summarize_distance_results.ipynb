{
 "cells": [
  {
   "cell_type": "markdown",
   "metadata": {},
   "source": [
    "# Distance results\n",
    "\n",
    "One way of correcting for distance is to optimize the relationship between expression and distance, revealing genes supporting that relationship, then remove those genes from contention in final analyses."
   ]
  },
  {
   "cell_type": "code",
   "execution_count": 1,
   "metadata": {},
   "outputs": [
    {
     "data": {
      "text/plain": [
       "mask\n",
       "00    32\n",
       "16    32\n",
       "32    32\n",
       "64    32\n",
       "Name: tsv, dtype: int64"
      ]
     },
     "execution_count": 1,
     "metadata": {},
     "output_type": "execute_result"
    }
   ],
   "source": [
    "\"\"\" Specify and read files containing log-proximity results. \"\"\"\n",
    "\n",
    "import os\n",
    "import pandas as pd\n",
    "from pygest.convenience import get_ranks_from_file\n",
    "\n",
    "\n",
    "# Path information to locate files of interest\n",
    "base_path = \"/home/mike/ge_data/derivatives/sub-all_hem-A_samp-glasser_prob-fornito\"\n",
    "split_path = \"parby-wellid_splby-wellid_batch-train00{}\"\n",
    "algo_dir = \"tgt-max_algo-smrt\"\n",
    "filename = \"sub-all_comp-glasserwellidslogproximity_mask-{}_norm-srs_adj-none.tsv\"\n",
    "\n",
    "# Record and load files\n",
    "masks = ['none', '16', '32', '64', ]\n",
    "results = []\n",
    "for mask in masks:\n",
    "    for split_seed in range(401, 433):\n",
    "        full_path = os.path.join(base_path, split_path.format(split_seed), algo_dir, filename.format(mask))\n",
    "        rank_col_name = \"s{}rank\".format(split_seed)\n",
    "        if os.path.isfile(full_path):\n",
    "            one_df = get_ranks_from_file(full_path, column_name=rank_col_name)\n",
    "            result = {\n",
    "                'tsv': full_path,\n",
    "                'mask': \"00\" if mask == \"none\" else mask,\n",
    "                'split': split_seed,\n",
    "                'df': one_df,\n",
    "                'ranks': one_df[rank_col_name].astype(int),\n",
    "            }\n",
    "            results.append(result)\n",
    "    \n",
    "df = pd.DataFrame(results)\n",
    "\n",
    "# We should have a result for each split-mask combination, 4 masks * 32 splits = 128 files\n",
    "df.groupby('mask')['tsv'].count()\n"
   ]
  },
  {
   "cell_type": "code",
   "execution_count": 2,
   "metadata": {},
   "outputs": [],
   "source": [
    "\"\"\" Average ranks over splits for each probe_id. \"\"\"\n",
    "\n",
    "from pygest.rawdata.miscellaneous import map_pid_to_eid_fornito\n",
    "\n",
    "\n",
    "rankings_by_mask = {}\n",
    "for mask in df['mask'].unique():\n",
    "    sdf = pd.DataFrame(\n",
    "        data=[s for s in df[df['mask'] == mask].sort_values('split', ascending=True)['ranks']],\n",
    "    ).T\n",
    "    sdf['mean_rank'] = sdf.mean(axis='columns')\n",
    "    sdf['entrez_id'] = sdf.index.map(map_pid_to_eid_fornito)\n",
    "    sdf = sdf[sorted(sdf.columns)].sort_values('mean_rank', ascending=True)\n",
    "    rankings_by_mask[mask] = sdf\n"
   ]
  },
  {
   "cell_type": "code",
   "execution_count": 3,
   "metadata": {},
   "outputs": [],
   "source": [
    "\"\"\" Save results to disk. \"\"\"\n",
    "\n",
    "os.makedirs(\"rankings\", exist_ok=True)\n",
    "\n",
    "for mask, final_result in rankings_by_mask.items():\n",
    "    final_result.to_csv(os.path.join(\"rankings\", \"log_proximity_mask-{}.tsv\".format(mask)), sep=\"\\t\")\n",
    "    "
   ]
  },
  {
   "cell_type": "code",
   "execution_count": null,
   "metadata": {},
   "outputs": [],
   "source": []
  }
 ],
 "metadata": {
  "kernelspec": {
   "display_name": "schmidt_geconn",
   "language": "python",
   "name": "schmidt_geconn"
  },
  "language_info": {
   "codemirror_mode": {
    "name": "ipython",
    "version": 3
   },
   "file_extension": ".py",
   "mimetype": "text/x-python",
   "name": "python",
   "nbconvert_exporter": "python",
   "pygments_lexer": "ipython3",
   "version": "3.6.8"
  }
 },
 "nbformat": 4,
 "nbformat_minor": 4
}
