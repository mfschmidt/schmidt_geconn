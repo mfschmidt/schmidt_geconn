{
 "cells": [
  {
   "cell_type": "markdown",
   "metadata": {},
   "source": [
    "# Rank probes into a list\n",
    "\n",
    "We need a ranked list of probes/genes for many reasons. Top of mind as I write this is to generate a list of the top 50% of our probes so we can truncate the computationally expensive process of running permutation tests on huge matrices of gene expression values. If we only run the top half, it can cut the time spent on each run by XXX. This code will average the ranking of each REAL optimization run, and then we can run permutations and shuffles on only the best genes.\n",
    "\n",
    "Which results are used to generate rankings can be modified by editing the path in the 'context' block below."
   ]
  },
  {
   "cell_type": "code",
   "execution_count": 1,
   "metadata": {},
   "outputs": [],
   "source": [
    "\"\"\" imports \"\"\"\n",
    "\n",
    "import pandas as pd\n",
    "import os\n"
   ]
  },
  {
   "cell_type": "code",
   "execution_count": 2,
   "metadata": {},
   "outputs": [],
   "source": [
    "\"\"\" context \"\"\"\n",
    "\n",
    "PYGEST_DATA = \"/data.local\"\n",
    "BASE_DIR = \"derivatives/sub-all_hem-A_samp-glasser_prob-fornito/parby-wellid_splby-wellid_batch-train{:05d}/tgt-max_algo-smrt\"\n",
    "FILE_NAME = \"sub-all_comp-hcpniftismoothgrandmeansim_mask-16_norm-srs_adj-none.tsv\"\n"
   ]
  },
  {
   "cell_type": "code",
   "execution_count": 3,
   "metadata": {},
   "outputs": [
    {
     "name": "stdout",
     "output_type": "stream",
     "text": [
      "Loaded 16 dataframes\n"
     ]
    }
   ],
   "source": [
    "\"\"\" load all the files, ranking probes as we go \"\"\"\n",
    "\n",
    "dfs = []\n",
    "for split in range(200, 216, 1):\n",
    "    full_path = os.path.join(PYGEST_DATA, BASE_DIR.format(split), FILE_NAME)\n",
    "    if os.path.isfile(full_path):\n",
    "        df = pd.read_csv(full_path, sep='\\t')[['probe_id', ]]\n",
    "        df['rank_{:05d}'.format(split)] = range(1, len(df) + 1, 1)\n",
    "        df = df[['probe_id', 'rank_{:05d}'.format(split), ]].set_index('probe_id')\n",
    "        dfs.append(df.sort_index())\n",
    "    else:\n",
    "        print(\"DOES NOT EXIST: {}\".format(full_path))\n",
    "        \n",
    "print(\"Loaded {} dataframes\".format(len(dfs)))\n",
    "df = pd.concat(dfs, axis=1)\n"
   ]
  },
  {
   "cell_type": "code",
   "execution_count": 4,
   "metadata": {},
   "outputs": [],
   "source": [
    "\"\"\" average the ranking for each probe, and create an overall ranked list. \"\"\"\n",
    "\n",
    "df['rank'] = df.mean(axis=1)\n",
    "df = df.sort_values('rank')\n"
   ]
  },
  {
   "cell_type": "code",
   "execution_count": 5,
   "metadata": {},
   "outputs": [
    {
     "name": "stdout",
     "output_type": "stream",
     "text": [
      "Top 50% of probes have been written to top_half_probes_hcpww16ss.csv\n"
     ]
    }
   ],
   "source": [
    "\"\"\" Save out the top half of the probes to a file. \"\"\"\n",
    "\n",
    "file_name = \"top_half_probes_hcpww16ss.csv\"\n",
    "with open(file_name, \"wt\") as f:\n",
    "    for probe in df.index[:int(len(df.index) / 2)]:\n",
    "        f.write(\"{}\\n\".format(probe))\n",
    "\n",
    "print(\"Top 50% of probes have been written to {}\".format(file_name))"
   ]
  },
  {
   "cell_type": "code",
   "execution_count": null,
   "metadata": {},
   "outputs": [],
   "source": []
  }
 ],
 "metadata": {
  "kernelspec": {
   "display_name": "schmidt_geconn",
   "language": "python",
   "name": "schmidt_geconn"
  },
  "language_info": {
   "codemirror_mode": {
    "name": "ipython",
    "version": 3
   },
   "file_extension": ".py",
   "mimetype": "text/x-python",
   "name": "python",
   "nbconvert_exporter": "python",
   "pygments_lexer": "ipython3",
   "version": "3.6.8"
  }
 },
 "nbformat": 4,
 "nbformat_minor": 4
}
