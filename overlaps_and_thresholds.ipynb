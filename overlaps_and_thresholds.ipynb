{
 "cells": [
  {
   "cell_type": "markdown",
   "metadata": {},
   "source": [
    "---\n",
    "> title: \"Exploring Overlaps\"\n",
    "> created: 2019-09-23\n",
    "> last updated: 2019-10-10\n",
    "> author: \"Mike Schmidt\"\n",
    "---"
   ]
  },
  {
   "cell_type": "markdown",
   "metadata": {},
   "source": [
    "Exploring Overlaps\n",
    "=================="
   ]
  },
  {
   "cell_type": "markdown",
   "metadata": {},
   "source": [
    "Calculating overlap, or percent similarity, is one of many ways to assess similarity of ranked gene lists. The overlap of two gene lists that were generated in similar ways can be used as a measure of consistency, as each list agrees on the most important genes to some extent.\n",
    "\n",
    "This file was created to develop different ways to assess overlaps (not algorithmically, but procedurally, within vs across groups, etc). And we don't know what thresholds are appropriate for considering genes listed above the threshold as relevant while considering those below to be irrelevant. The code here will be ported back into ge_data_manager code to generate these overlaps for any collection of results selected."
   ]
  },
  {
   "cell_type": "code",
   "execution_count": 1,
   "metadata": {},
   "outputs": [],
   "source": [
    "\"\"\" Bring in all the libraries we will need in this notebook. \"\"\"\n",
    "import pandas as pd\n",
    "import numpy as np\n",
    "import pickle\n",
    "from pygest import algorithms"
   ]
  },
  {
   "cell_type": "code",
   "execution_count": 2,
   "metadata": {},
   "outputs": [],
   "source": [
    "\"\"\" Define some lists we can use later. \"\"\"\n",
    "shuffles = ['agno', 'dist', 'edge', ]\n",
    "thresholds = [320, 160, 80, 40, 20, ]"
   ]
  },
  {
   "cell_type": "code",
   "execution_count": 3,
   "metadata": {},
   "outputs": [],
   "source": [
    "\"\"\" Pick up a dataframe that's just like what I'd normally send off for plotting in ge_data_manager.\n",
    "\n",
    "    This file was copied from PYGEST_DATA/plots/ and was explicitly written from the ge_data_manager\n",
    "    tasks.py:assess_performance to allow for debugging and experimenting at this stage. It contains\n",
    "    784 rows, each representing a result from one of 16 training runs, or 3 * 256 permutation runs. \"\"\"\n",
    "\n",
    "with open(\"overlap_data/pickled_dataframe_tt_post_nkigg00s.df\", \"br\") as f:\n",
    "    df = pickle.load(f)"
   ]
  },
  {
   "cell_type": "code",
   "execution_count": 4,
   "metadata": {},
   "outputs": [],
   "source": [
    "# Scrape the seeds used to generate each split half\n",
    "def seed(path, key):\n",
    "    \"\"\" Scrape the 5-character seed from the path and return it as an integer.\n",
    "    \n",
    "    :param path: path to the tsv file containing results\n",
    "    :param key: substring preceding the seed, \"batch-train\" for splits, seed-\" for shuffles\n",
    "    \"\"\"\n",
    "    try:\n",
    "        i = path.find(key) + len(key)\n",
    "        return int(path[i:i + 5])\n",
    "    except ValueError:\n",
    "        return 0"
   ]
  },
  {
   "cell_type": "code",
   "execution_count": 5,
   "metadata": {},
   "outputs": [],
   "source": [
    "\"\"\" Scrape a few pieces from the path and store them as their own columns. \"\"\"\n",
    "df['split'] = df['path'].apply(seed, args=(\"batch-train\", ))\n",
    "df['seed'] = df['path'].apply(seed, args=(\"seed-\", ))"
   ]
  },
  {
   "cell_type": "markdown",
   "metadata": {},
   "source": [
    "What proportion of genes overlaps within each type of permutation?\n",
    "------------------------------------------------------------------\n",
    "\n",
    "At each threshold, and for each type of permutation, generate the average overlap percentage for any given pair of results. In other words, for any given shuffled result is likely to contain ${MEAN_OVERLAP}% of the same genes as any other similarly shuffled permutation."
   ]
  },
  {
   "cell_type": "code",
   "execution_count": 6,
   "metadata": {},
   "outputs": [
    {
     "name": "stdout",
     "output_type": "stream",
     "text": [
      "                  agno                           dist                           edge\n",
      "Threshold: 320 -  5.45% (n = 256, sd = 0.0068)  18.43% (n = 256, sd = 0.0179)  26.41% (n = 256, sd = 0.0185)\n",
      "Threshold: 160 -  3.34% (n = 256, sd = 0.0045)  12.70% (n = 256, sd = 0.0158)  22.46% (n = 256, sd = 0.0188)\n",
      "Threshold:  80 -  1.80% (n = 256, sd = 0.0031)   9.91% (n = 256, sd = 0.0155)  22.14% (n = 256, sd = 0.0194)\n",
      "Threshold:  40 -  0.97% (n = 256, sd = 0.0024)   8.83% (n = 256, sd = 0.0181)  25.31% (n = 256, sd = 0.0299)\n",
      "Threshold:  20 -  0.52% (n = 256, sd = 0.0018)   8.11% (n = 256, sd = 0.0228)  28.53% (n = 256, sd = 0.0425)\n"
     ]
    }
   ],
   "source": [
    "\"\"\" Figure out how to determine the percentage of genes that consistently rise to the top at a given threshold. \"\"\"\n",
    "\n",
    "results = {}\n",
    "\n",
    "for threshold in thresholds:\n",
    "    for shuffle in shuffles:\n",
    "        mask_shuffle = df['shuffle'] == shuffle\n",
    "\n",
    "        # Internal_overlap is just each result compared to every other result in the list\n",
    "        df.loc[mask_shuffle, 'internal_overlap'] = algorithms.pct_similarity_list(list(df.loc[mask_shuffle, 'path']), top=threshold)\n",
    "        \n",
    "        results[(threshold, shuffle)] = \"{:>6} (n = {:>3}, sd = {:>6})\".format(\n",
    "            \"{:0.2%}\".format(np.mean(df.loc[mask_shuffle, 'internal_overlap'])),\n",
    "            sum(mask_shuffle),\n",
    "            \"{:0.4f}\".format(np.std(df.loc[mask_shuffle, 'internal_overlap'])),\n",
    "        )\n",
    "\n",
    "print(\"{}{}\".format(\" \" * 18, (\" \" * 27).join(shuffles)))\n",
    "for threshold in thresholds:\n",
    "    print(\"Threshold: {:>3} - {}\".format(\n",
    "        threshold, \"  \".join(results[(threshold, x)] for x in shuffles),\n",
    "    ))"
   ]
  },
  {
   "cell_type": "code",
   "execution_count": 7,
   "metadata": {},
   "outputs": [
    {
     "name": "stdout",
     "output_type": "stream",
     "text": [
      "                    agno                           dist                           edge\n"
     ]
    }
   ],
   "source": [
    "print(\"{}{}\".format(\" \" * 20, (\" \" * 27).join(shuffles)))"
   ]
  },
  {
   "cell_type": "markdown",
   "metadata": {},
   "source": [
    "How do those genes survive successive overlap pruning?\n",
    "------------------------------------------------------\n",
    "\n",
    "We generate 16 split halves, each training half a random sampling of 50% of the available wellids or parcels. For each of those 16 training halves, we run an actual greedy Mantel whack-a-probe process. We also run three different types of shuffling, each with 16 random permutations for each of these training sets. This results in 49 (1 + 16 + 16 + 16) results per split training half. We would like to determine the consistency across shuffles and splits. As we check each successive result for its overlap with our remaining genes, how many last through to the very end, meaning they survived every overlap check and are listed in every result, no matter how they were split and shuffled?\n",
    "\n",
    "There are a lot of data to report, so the following block saves out html tables to view results. See the overlap_data subfolder."
   ]
  },
  {
   "cell_type": "code",
   "execution_count": 8,
   "metadata": {},
   "outputs": [
    {
     "name": "stdout",
     "output_type": "stream",
     "text": [
      "Threshold == 320\n",
      "  Shuffle == agno\n",
      "  Shuffle == dist\n",
      "  Shuffle == edge\n",
      "Threshold == 160\n",
      "  Shuffle == agno\n",
      "  Shuffle == dist\n",
      "  Shuffle == edge\n",
      "Threshold == 80\n",
      "  Shuffle == agno\n",
      "  Shuffle == dist\n",
      "  Shuffle == edge\n",
      "Threshold == 40\n",
      "  Shuffle == agno\n",
      "  Shuffle == dist\n",
      "  Shuffle == edge\n",
      "Threshold == 20\n",
      "  Shuffle == agno\n",
      "  Shuffle == dist\n",
      "  Shuffle == edge\n"
     ]
    }
   ],
   "source": [
    "# Figure out how to determine the percentage of genes that consistently rise to the top at a given threshold.\n",
    "with open(\"overlap_data/overlap_survival.html\", \"w\") as f:\n",
    "    f.write(\"<html>\\n\")\n",
    "    f.write(\"<head>\\n\")\n",
    "    f.write(\"  <title>Survival analysis by overlap percetages</title>\\n\")\n",
    "    f.write(\"  <style>\\n\")\n",
    "    f.write(\"    table, th { border: 1px solid black; }\\n\")\n",
    "    f.write(\"    td { width: 40px; }\\n\")\n",
    "    f.write(\"    td.first { width: 200px; }\\n\")\n",
    "    f.write(\"  </style>\\n\")\n",
    "    f.write(\"</head>\\n\")\n",
    "    f.write(\"<body>\\n\")\n",
    "    f.write(\"<h1>Probe survival analysis, by overlap</h1>\\n\")\n",
    "    for threshold in thresholds:\n",
    "        print(\"Threshold == {}\".format(threshold))\n",
    "        f.write(\"<h2>Threshold == {}</h2>\\n\".format(threshold))\n",
    "        for shuffle in shuffles:\n",
    "            print(\"  Shuffle == {}\".format(shuffle))\n",
    "            f.write(\"<h3>{}-shuffled</h3>\\n\".format(shuffle))\n",
    "            f.write(\"  <table>\\n\")\n",
    "            f.write(\"    <tr>\\n\")\n",
    "            f.write(\"      <th>Seed \\\\ Split</th><th>{}</th>\\n\".format(\n",
    "                \"</th><th>\".join(str(x) for x in range(16))\n",
    "            ))\n",
    "            f.write(\"    </tr>\\n\")\n",
    "            mask_shuffle = df['shuffle'] == shuffle\n",
    "        \n",
    "            # A list of lists of sets\n",
    "            remaining_probe_multi_list = []\n",
    "            \n",
    "            for seed in sorted(list(set(df['seed']))):\n",
    "                f.write(\"    <tr>\\n\")\n",
    "                mask_seed = df['seed'] == seed\n",
    "                \n",
    "                num_probes_remaining = []\n",
    "                which_probes_remaining = []\n",
    "                remaining_probes = None\n",
    "                for result in sorted(df[mask_shuffle & mask_seed]['path']):\n",
    "                    if remaining_probes is None:\n",
    "                        remaining_probes = set(algorithms.run_results(result, threshold)['top_probes'])\n",
    "                    else:\n",
    "                        remaining_probes = set(algorithms.run_results(result, threshold)['top_probes']).intersection(remaining_probes)\n",
    "                    num_probes_remaining.append(len(remaining_probes))\n",
    "                    which_probes_remaining.append(remaining_probes)\n",
    "                if len(which_probes_remaining) > 0:\n",
    "                    remaining_probe_multi_list.append(which_probes_remaining)\n",
    "                    f.write(\"      <td class=\\\"first\\\">Survivors in {} splits with seed={}</td><td>{}</td>\\n\".format(\n",
    "                        len(df[mask_shuffle & mask_seed].index),\n",
    "                        seed,\n",
    "                        \"</td><td>\".join(str(x) for x in num_probes_remaining)\n",
    "                    ))\n",
    "                f.write(\"    </tr>\\n\")\n",
    "            f.write(\"  </table>\\n\")\n",
    "                \n",
    "                \n",
    "            # From those across-seed results, combine them across-splits\n",
    "            final_num_probes_remaining = []\n",
    "            final_remaining_probes = None\n",
    "            # loop over batch train-test splits (layer two in the multi_list)\n",
    "            for i, split in enumerate(sorted(list(set(df['split'])))):\n",
    "                # loop over shuffle seeds (layer one in the multi_list)\n",
    "                for j, probe_set in enumerate([set_list[i] for set_list in remaining_probe_multi_list]):\n",
    "                    if final_remaining_probes is None:\n",
    "                        final_remaining_probes = probe_set\n",
    "                    else:\n",
    "                        final_remaining_probes = probe_set.intersection(final_remaining_probes)\n",
    "                    # print(\"  ({},{}) at {} probes\".format(j, i, len(final_remaining_probes)))\n",
    "                final_num_probes_remaining.append(0 if final_remaining_probes is None else len(final_remaining_probes))\n",
    "            f.write(\"  <p>Across all splits and seeds, {} probes remained.</p>\\n\".format(\n",
    "                \"<None>\" if final_remaining_probes is None else len(final_remaining_probes)\n",
    "            ))\n",
    "            f.write(\"  <table><tr>\\n\")\n",
    "            f.write(\"      <td class=\\\"first\\\">by split</td><td>{}</td>\\n\".format(\n",
    "                \"</td><td>\".join(str(x) for x in final_num_probes_remaining)\n",
    "            ))\n",
    "            f.write(\"  </tr></table>\\n\")\n",
    "    f.write(\"</body>\\n\")\n",
    "    f.write(\"</html>\\n\")\n"
   ]
  },
  {
   "cell_type": "markdown",
   "metadata": {},
   "source": [
    "Do those overlaps compare favorably to real data?\n",
    "-------------------------------------------------\n",
    "\n",
    "Real training halves are not shuffled, and therefore cannot be viewed across shuffle-seeds. But we can view them across each of the training sets. In other words, From one random 50% sample to the next, how many probes are in every list so far?"
   ]
  },
  {
   "cell_type": "code",
   "execution_count": 9,
   "metadata": {},
   "outputs": [
    {
     "name": "stdout",
     "output_type": "stream",
     "text": [
      "Survivors in real. n=16: 320, 113, 63, 35, 29, 21, 18, 18, 18, 17, 13, 13, 12, 12, 12, 12\n",
      "Survivors in real. n=16: 160, 59, 32, 19, 16, 10, 8, 8, 7, 7, 6, 6, 5, 5, 5, 5\n",
      "Survivors in real. n=16: 80, 21, 10, 5, 5, 5, 5, 5, 5, 5, 4, 4, 4, 4, 4, 4\n",
      "Survivors in real. n=16: 40, 11, 5, 4, 3, 3, 3, 3, 3, 3, 2, 2, 2, 2, 2, 2\n",
      "Survivors in real. n=16: 20, 8, 4, 4, 3, 3, 3, 3, 3, 3, 2, 2, 2, 2, 2, 1\n"
     ]
    }
   ],
   "source": [
    "# Only 16 real results (shuffle == 'none'); how do they compare?\n",
    "mask_shuffle = df['shuffle'] == 'none'\n",
    "\n",
    "for threshold in thresholds:\n",
    "    num_probes_remaining = []\n",
    "    remaining_probes = None\n",
    "    for result in df[mask_shuffle]['path']:\n",
    "        if remaining_probes is None:\n",
    "            remaining_probes = set(algorithms.run_results(result, threshold)['top_probes'])\n",
    "        else:\n",
    "            remaining_probes = set(algorithms.run_results(result, threshold)['top_probes']).intersection(remaining_probes)\n",
    "        num_probes_remaining.append(len(remaining_probes))\n",
    "    print(\"Survivors in real. n={}: {}\".format(\n",
    "        len(df[mask_shuffle].index),\n",
    "        \", \".join(str(x) for x in num_probes_remaining)\n",
    "    ))"
   ]
  },
  {
   "cell_type": "markdown",
   "metadata": {},
   "source": [
    "Just hacking around\n",
    "===================\n",
    "\n",
    "The following code was in another file, also related to overlaps, and is included here so all overlap code experiments are in one place."
   ]
  },
  {
   "cell_type": "code",
   "execution_count": 11,
   "metadata": {},
   "outputs": [
    {
     "name": "stdout",
     "output_type": "stream",
     "text": [
      "files : 9.069%\n",
      "probes: 9.069%\n",
      "files : 35.288%\n",
      "probes: 35.288%\n",
      "files : 9.434%\n",
      "probes: 9.434%\n"
     ]
    }
   ],
   "source": [
    "files = [\n",
    "    \"/home/mike/scx_ge_data/shuffles/sub-H03512002_hem-L_ctx-scx_prb-fornito/tgt-max_alg-smrt/sub-H03512002_norm-none_cmp-hcpniftismoothgrandmeansim_msk-16_adj-none_seed-0001.tsv\",\n",
    "    \"/home/mike/scx_ge_data/shuffles/sub-H03512002_hem-L_ctx-scx_prb-fornito/tgt-max_alg-smrt/sub-H03512002_norm-none_cmp-hcpniftismoothgrandmeansim_msk-none_adj-none_seed-0002.tsv\",\n",
    "    \"/home/mike/scx_ge_data/shuffles/sub-H03512002_hem-L_ctx-scx_prb-fornito/tgt-max_alg-smrt/sub-H03512002_norm-none_cmp-hcpniftismoothgrandmeansim_msk-none_adj-none_seed-0001.tsv\",\n",
    "    \"/home/mike/scx_ge_data/shuffles/sub-H03512002_hem-L_ctx-scx_prb-fornito/tgt-max_alg-smrt/sub-H03512002_norm-none_cmp-hcpniftismoothgrandmeansim_msk-16_adj-none_seed-0002.tsv\",\n",
    "]\n",
    "probelists = [algorithms.top_probes(f) for f in files]\n",
    "\n",
    "m_olap_files = algorithms.pct_similarity_matrix(files[0:2])\n",
    "m_olap_probelists = algorithms.pct_similarity_matrix_raw(probelists[0:2])\n",
    "\n",
    "print(\"files : {:0.3%}\".format(np.mean(m_olap_files[np.tril_indices_from(m_olap_files, k=-1)])))\n",
    "print(\"probes: {:0.3%}\".format(np.mean(m_olap_probelists[np.tril_indices_from(m_olap_probelists, k=-1)])))\n",
    "\n",
    "m_olap_files = algorithms.pct_similarity_matrix(files[0:3])\n",
    "m_olap_probelists = algorithms.pct_similarity_matrix_raw(probelists[0:3])\n",
    "\n",
    "print(\"files : {:0.3%}\".format(np.mean(m_olap_files[np.tril_indices_from(m_olap_files, k=-1)])))\n",
    "print(\"probes: {:0.3%}\".format(np.mean(m_olap_probelists[np.tril_indices_from(m_olap_probelists, k=-1)])))\n",
    "\n",
    "m_olap_files = algorithms.pct_similarity_matrix(files[2:4])\n",
    "m_olap_probelists = algorithms.pct_similarity_matrix_raw(probelists[2:4])\n",
    "\n",
    "print(\"files : {:0.3%}\".format(np.mean(m_olap_files[np.tril_indices_from(m_olap_files, k=-1)])))\n",
    "print(\"probes: {:0.3%}\".format(np.mean(m_olap_probelists[np.tril_indices_from(m_olap_probelists, k=-1)])))\n"
   ]
  },
  {
   "cell_type": "code",
   "execution_count": null,
   "metadata": {},
   "outputs": [],
   "source": []
  }
 ],
 "metadata": {
  "kernelspec": {
   "display_name": "schmidt_geconn",
   "language": "python",
   "name": "schmidt_geconn"
  },
  "language_info": {
   "codemirror_mode": {
    "name": "ipython",
    "version": 3
   },
   "file_extension": ".py",
   "mimetype": "text/x-python",
   "name": "python",
   "nbconvert_exporter": "python",
   "pygments_lexer": "ipython3",
   "version": "3.6.8"
  }
 },
 "nbformat": 4,
 "nbformat_minor": 4
}
