{
 "cells": [
  {
   "cell_type": "markdown",
   "metadata": {},
   "source": [
    "# Calculate p-values for each gene\n",
    "\n",
    "The whack-a-probe optimization/training process results in a ranked list of genes where the gene's ranking is its only quantitative attribute. But we would like to report the probability we discovered any particular gene purely by chance, a p-value. To do this, we compare the average ranking each gene achieved in 16 split-half real data sets against the ranking the gene achieved in 256 runs of each of three permutation algorithms. A gene that was consistently ranked higher in real data than it was in shuffled data would have a low p-value.\n",
    "\n",
    "$$p = {times gene ranked higher in permuation} \\over 256$$\n",
    "\n",
    "A second approach counts each individual real ranking (rather than averages) against each individual shuffled ranking, which is 4,096 comparisons.\n"
   ]
  },
  {
   "cell_type": "code",
   "execution_count": 1,
   "metadata": {},
   "outputs": [],
   "source": [
    "\"\"\" Define some lists for looping. \"\"\"\n",
    "masks = ['00', '16', '32', '64', ]\n",
    "shuffles = [\"agno\", \"dist\", \"edge\", ]"
   ]
  },
  {
   "cell_type": "code",
   "execution_count": 2,
   "metadata": {},
   "outputs": [
    {
     "name": "stdout",
     "output_type": "stream",
     "text": [
      "Peak for 00 at 72 +/- 18\n",
      "     00 agno at 88 +/- 25\n",
      "     00 dist at 79 +/- 24\n",
      "     00 edge at 45 +/- 12\n",
      "Peak for 16 at 72 +/- 14\n",
      "     16 agno at 89 +/- 25\n",
      "     16 dist at 79 +/- 24\n",
      "     16 edge at 46 +/- 12\n",
      "Peak for 32 at 77 +/- 14\n",
      "     32 agno at 90 +/- 25\n",
      "     32 dist at 78 +/- 23\n",
      "     32 edge at 46 +/- 13\n",
      "Peak for 64 at 69 +/- 17\n",
      "     64 agno at 89 +/- 26\n",
      "     64 dist at 78 +/- 23\n",
      "     64 edge at 49 +/- 14\n"
     ]
    }
   ],
   "source": [
    "\"\"\" Load up the data, preprocessed by the ge_data_manager project.\n",
    "    We won't use this to generate rankings, but we can see quickly\n",
    "    where the peaks are in each run. \"\"\"\n",
    "\n",
    "import pickle\n",
    "\n",
    "pre_calc_results = {}\n",
    "for mask in masks:\n",
    "    with open(\"/data/plots/cache/hcpww{}speak_ol_post.df\".format(mask), \"br\") as f:\n",
    "        pre_calc_results[mask] = pickle.load(f)\n",
    "        derivatives = pre_calc_results[mask][pre_calc_results[mask]['shuffle'] == 'none']\n",
    "        print(\"Peak for {} at {:,} +/- {:0.0f}\".format(\n",
    "            mask,\n",
    "            15745 - int(derivatives['peak'].mean()),\n",
    "            derivatives['peak'].std(),\n",
    "        ))\n",
    "        for shuffle in shuffles:\n",
    "            shuffled = pre_calc_results[mask][pre_calc_results[mask]['shuffle'] == shuffle]\n",
    "            print(\"     {} {} at {:,} +/- {:0.0f}\".format(\n",
    "                mask, shuffle,\n",
    "                15745 - int(shuffled['peak'].mean()),\n",
    "                shuffled['peak'].std(),\n",
    "            ))\n"
   ]
  },
  {
   "cell_type": "markdown",
   "metadata": {},
   "source": [
    "## Calculate p-values"
   ]
  },
  {
   "cell_type": "markdown",
   "metadata": {},
   "source": [
    "Define functions to import all rankings into a single dataframe. Rank them all. Then calculate p-values. We calculate the old intensive way first, then add onto that dataframe with the faster vectorized method."
   ]
  },
  {
   "cell_type": "code",
   "execution_count": 3,
   "metadata": {},
   "outputs": [],
   "source": [
    "\"\"\" Modified from ge_data_manager to include shuffled data,\n",
    "    the ranked_probes function iterates over result tsvs, ranking genes and saving them\n",
    "    into a single dataframe. \"\"\"\n",
    "\n",
    "import pandas as pd\n",
    "from pygest import algorithms\n",
    "from pygest.convenience import bids_val\n",
    "from pygest.rawdata import miscellaneous\n",
    "\n",
    "\n",
    "def name_from_path(path):\n",
    "    \"\"\" Extract critical pieces from the path to return an abbreviated column name.\n",
    "        Three items differ in each path: 4 shuffle-types, 16 splits, 16 seeds (plus None). \"\"\"\n",
    "    \n",
    "    shuffle = bids_val(\"shuffle\", path)\n",
    "    if shuffle == \"random\":\n",
    "        shuffle = \"agno\" \n",
    "    if shuffle == \"actual\":\n",
    "        shuffle = \"real\" \n",
    "    \n",
    "    batch = bids_val(\"batch\", path)[-3:]\n",
    "    seed = bids_val(\"seed\", path)[-3:]\n",
    "    \n",
    "    return \"{}-{}-{}\".format(shuffle, batch, seed)\n",
    "\n",
    "    \n",
    "def ranked_probes(tsvs, top):\n",
    "    \"\"\" Go through the files provided, at the threshold specified, and report probes in all files. \"\"\"\n",
    "\n",
    "    report_progress_on_items = range(int(len(tsvs)/10), len(tsvs), int(len(tsvs)/10))\n",
    "    all_rankings = pd.DataFrame()\n",
    "    for i, tsv in enumerate(tsvs):\n",
    "        df = pd.read_csv(tsv, sep='\\t')\n",
    "        rankings = pd.Series(data=df.index, index=df['probe_id'], name=name_from_path(tsv))\n",
    "        if i == 0:\n",
    "            all_rankings = pd.DataFrame(data=rankings)\n",
    "        else:\n",
    "            all_rankings[rankings.name] = rankings\n",
    "        # if i in report_progress_on_items:\n",
    "        #     print(\"Ranked {} of {} and counting...\".format(i, len(tsvs)))\n",
    "        if i == len(tsvs):\n",
    "            print(\"    ranked all probes in {} results.\".format(i + 1))\n",
    "    all_rankings['mean'] = all_rankings.mean(axis=1)\n",
    "    all_rankings['entrez_id'] = all_rankings.index.map(miscellaneous.map_pid_to_eid_fornito)\n",
    "    return all_rankings.sort_values('mean', ascending=True)\n"
   ]
  },
  {
   "cell_type": "code",
   "execution_count": 4,
   "metadata": {},
   "outputs": [],
   "source": [
    "\"\"\" Rank probes/genes for each and every run. \"\"\"\n",
    "\n",
    "rankings = {}\n",
    "for mask in masks:\n",
    "    tsv_files = pre_calc_results[mask]['path']\n",
    "    rankings[mask] = ranked_probes(tsv_files, None)"
   ]
  },
  {
   "cell_type": "code",
   "execution_count": 5,
   "metadata": {},
   "outputs": [],
   "source": [
    "\"\"\" We can borrow the id-to-symbol map from PyGEST.\n",
    "    (although it would be better to build a reproducible routine to extract it from updated human_gene_info files.) \"\"\"\n",
    "\n",
    "from pygest import convenience\n",
    "\n",
    "id_to_symbol_map = convenience.create_id_to_symbol_map()\n",
    "for mask in masks:\n",
    "    rankings[mask]['gene_symbol'] = rankings[mask]['entrez_id'].map(id_to_symbol_map)"
   ]
  },
  {
   "cell_type": "code",
   "execution_count": 6,
   "metadata": {},
   "outputs": [],
   "source": [
    "\"\"\" Determine, for each probe/gene, how likely it is for a real ranking to be higher than a shuffled ranking.\n",
    "    This is the c-style, expensive, 4k-comparison approach. \"\"\"\n",
    "\n",
    "import numpy as np\n",
    "\n",
    "def p_probe(probe_id, df):\n",
    "    \"\"\" Return probability (p-value) a real rank is higher than shuffled. \"\"\"\n",
    "    \n",
    "    ps = {}\n",
    "    real_runs = [c for c in df.columns if \"real\" in c]\n",
    "    for shuf in [\"agno\", \"dist\", \"edge\", ]:\n",
    "        shuffled_runs = [c for c in df.columns if shuf in c]\n",
    "\n",
    "        n_better = 0\n",
    "        n_worse = 0\n",
    "        n_total = 0\n",
    "        for real in df.loc[probe_id, real_runs]:\n",
    "            for baseline in df.loc[probe_id, shuffled_runs]:\n",
    "                n_total += 1\n",
    "                if real < baseline:\n",
    "                    n_better += 1\n",
    "                else:\n",
    "                    n_worse += 1\n",
    "            # print(\"    {} vs {} of {}\".format(n_better, n_worse, n_total))\n",
    "        ps[shuf] = n_worse / n_total\n",
    "\n",
    "        # print(\"Mean real rank = {:,} vs mean {} rank of {:,}; {:,} better, {:,} worse, out of {:,}; p = {:0.3f}\".format(\n",
    "        #     int(np.mean(df.loc[probe_id, real_runs])), shuf, int(np.mean(df.loc[probe_id, shuffled_runs])),\n",
    "        #     n_better, n_worse, n_total, ps[shuf]\n",
    "        # ))\n",
    "        \n",
    "    return ps[\"agno\"], ps[\"dist\"], ps[\"edge\"]"
   ]
  },
  {
   "cell_type": "code",
   "execution_count": 7,
   "metadata": {},
   "outputs": [
    {
     "data": {
      "text/plain": [
       "' Manually sample a few genes that came out in the prior algorithm as good, ok, and bad.\\n    Use just this small subset to rapidly prototype and check old vs new algorithms. '"
      ]
     },
     "execution_count": 7,
     "metadata": {},
     "output_type": "execute_result"
    }
   ],
   "source": [
    "\"\"\" Manually sample a few genes that came out in the prior algorithm as good, ok, and bad.\n",
    "    Use just this small subset to rapidly prototype and check old vs new algorithms. \"\"\" \n",
    "\n",
    "# selected_ids = [57622, 8178, 728882, 10605, 23395, 1482, 9865, ]\n",
    "# selected_ids = set(selected_ids).union(set(rankings[\"16\"].sample(16)['entrez_id']))\n",
    "# selected_probes = list(rankings[\"16\"][rankings[\"16\"][\"entrez_id\"].isin(selected_ids)][\"entrez_id\"].index)\n"
   ]
  },
  {
   "cell_type": "code",
   "execution_count": 8,
   "metadata": {},
   "outputs": [
    {
     "name": "stdout",
     "output_type": "stream",
     "text": [
      "2019-11-28 00:05:14.589929\n",
      "Calculating p-values for 00mm-masked results.\n",
      "2019-11-28 00:24:41.335270\n",
      "Calculating p-values for 16mm-masked results.\n",
      "2019-11-28 00:44:40.119669\n",
      "Calculating p-values for 32mm-masked results.\n",
      "2019-11-28 01:02:44.255453\n",
      "Calculating p-values for 64mm-masked results.\n"
     ]
    }
   ],
   "source": [
    "\"\"\" Calculate p-values for real vs each of three shuffle types.\n",
    "    This employs the c-style time intenstive process that performs ~4000 comparisons per gene. \"\"\"\n",
    "\n",
    "import pandas as pd\n",
    "import datetime\n",
    "\n",
    "df_p_values = {}\n",
    "for mask in masks:\n",
    "    print(datetime.datetime.now())\n",
    "    p_values = {}\n",
    "    print(\"Calculating p-values for {}mm-masked results.\".format(mask))\n",
    "    for pid in rankings[mask].index:  # replace me with selected_probes to limit how many genes are tested.\n",
    "        p_a, p_d, p_e = p_probe(pid, rankings[mask])\n",
    "        p_values[pid] = {\n",
    "            'entrez_id': int(rankings[mask].loc[pid, 'entrez_id']),\n",
    "            'gene_symbol': rankings[mask].loc[pid, 'gene_symbol'],\n",
    "            'old_agno': p_a,\n",
    "            'old_dist': p_d,\n",
    "            'old_edge': p_e,\n",
    "        }\n",
    "    df_p_values[mask] = pd.DataFrame(data=p_values).T\n",
    "    df_p_values[mask]['entrez_id'] = df_p_values[mask]['entrez_id'].astype(int)\n",
    "    # df_p_values[mask] = df_p_values[mask].set_index('entrez_id')\n"
   ]
  },
  {
   "cell_type": "code",
   "execution_count": 9,
   "metadata": {},
   "outputs": [],
   "source": [
    "\"\"\" Calculate p values by simply counting how many shuffled rankings are better\n",
    "    than the average real ranking. This is only 256 comparisons. \"\"\"\n",
    "\n",
    "import numpy as np\n",
    "\n",
    "for mask in masks:\n",
    "    reals = rankings[mask].loc[:, [x for x in rankings[mask].columns if \"real\" in x]]\n",
    "    real_means = reals.apply(np.mean, axis=1)\n",
    "\n",
    "    for shuffle in shuffles:\n",
    "        permuted_rankings = rankings[mask].loc[:, [x for x in rankings[mask].columns if shuffle in x]]\n",
    "        hits = permuted_rankings.lt(real_means, axis=0)\n",
    "        df_p_values[mask]['new_' + shuffle] = hits.sum(axis=1) / hits.count(axis=1)\n"
   ]
  },
  {
   "cell_type": "code",
   "execution_count": 12,
   "metadata": {},
   "outputs": [
    {
     "ename": "TypeError",
     "evalue": "No loop matching the specified signature and casting was found for ufunc svd_n_s",
     "output_type": "error",
     "traceback": [
      "\u001b[0;31m---------------------------------------------------------------------------\u001b[0m",
      "\u001b[0;31mTypeError\u001b[0m                                 Traceback (most recent call last)",
      "\u001b[0;32m<ipython-input-12-bac6311c9d4a>\u001b[0m in \u001b[0;36m<module>\u001b[0;34m\u001b[0m\n\u001b[1;32m      4\u001b[0m \u001b[0;32mfor\u001b[0m \u001b[0mmask\u001b[0m \u001b[0;32min\u001b[0m \u001b[0mmasks\u001b[0m\u001b[0;34m:\u001b[0m\u001b[0;34m\u001b[0m\u001b[0;34m\u001b[0m\u001b[0m\n\u001b[1;32m      5\u001b[0m     \u001b[0mfig\u001b[0m\u001b[0;34m,\u001b[0m \u001b[0maxes\u001b[0m \u001b[0;34m=\u001b[0m \u001b[0mplt\u001b[0m\u001b[0;34m.\u001b[0m\u001b[0msubplots\u001b[0m\u001b[0;34m(\u001b[0m\u001b[0mncols\u001b[0m\u001b[0;34m=\u001b[0m\u001b[0;36m3\u001b[0m\u001b[0;34m,\u001b[0m \u001b[0mfigsize\u001b[0m\u001b[0;34m=\u001b[0m\u001b[0;34m(\u001b[0m\u001b[0;36m9\u001b[0m\u001b[0;34m,\u001b[0m\u001b[0;36m3\u001b[0m\u001b[0;34m)\u001b[0m\u001b[0;34m,\u001b[0m \u001b[0msharey\u001b[0m\u001b[0;34m=\u001b[0m\u001b[0;32mTrue\u001b[0m\u001b[0;34m)\u001b[0m\u001b[0;34m\u001b[0m\u001b[0;34m\u001b[0m\u001b[0m\n\u001b[0;32m----> 6\u001b[0;31m     \u001b[0msns\u001b[0m\u001b[0;34m.\u001b[0m\u001b[0mregplot\u001b[0m\u001b[0;34m(\u001b[0m\u001b[0mx\u001b[0m\u001b[0;34m=\u001b[0m\u001b[0;34m\"old_agno\"\u001b[0m\u001b[0;34m,\u001b[0m \u001b[0my\u001b[0m\u001b[0;34m=\u001b[0m\u001b[0;34m\"new_agno\"\u001b[0m\u001b[0;34m,\u001b[0m \u001b[0mdata\u001b[0m\u001b[0;34m=\u001b[0m\u001b[0mdf_p_values\u001b[0m\u001b[0;34m[\u001b[0m\u001b[0mmask\u001b[0m\u001b[0;34m]\u001b[0m\u001b[0;34m,\u001b[0m \u001b[0max\u001b[0m\u001b[0;34m=\u001b[0m\u001b[0maxes\u001b[0m\u001b[0;34m[\u001b[0m\u001b[0;36m0\u001b[0m\u001b[0;34m]\u001b[0m\u001b[0;34m)\u001b[0m\u001b[0;34m\u001b[0m\u001b[0;34m\u001b[0m\u001b[0m\n\u001b[0m\u001b[1;32m      7\u001b[0m     \u001b[0msns\u001b[0m\u001b[0;34m.\u001b[0m\u001b[0mregplot\u001b[0m\u001b[0;34m(\u001b[0m\u001b[0mx\u001b[0m\u001b[0;34m=\u001b[0m\u001b[0;34m\"old_dist\"\u001b[0m\u001b[0;34m,\u001b[0m \u001b[0my\u001b[0m\u001b[0;34m=\u001b[0m\u001b[0;34m\"new_dist\"\u001b[0m\u001b[0;34m,\u001b[0m \u001b[0mdata\u001b[0m\u001b[0;34m=\u001b[0m\u001b[0mdf_p_values\u001b[0m\u001b[0;34m[\u001b[0m\u001b[0mmask\u001b[0m\u001b[0;34m]\u001b[0m\u001b[0;34m,\u001b[0m \u001b[0max\u001b[0m\u001b[0;34m=\u001b[0m\u001b[0maxes\u001b[0m\u001b[0;34m[\u001b[0m\u001b[0;36m1\u001b[0m\u001b[0;34m]\u001b[0m\u001b[0;34m)\u001b[0m\u001b[0;34m\u001b[0m\u001b[0;34m\u001b[0m\u001b[0m\n\u001b[1;32m      8\u001b[0m     \u001b[0msns\u001b[0m\u001b[0;34m.\u001b[0m\u001b[0mregplot\u001b[0m\u001b[0;34m(\u001b[0m\u001b[0mx\u001b[0m\u001b[0;34m=\u001b[0m\u001b[0;34m\"old_edge\"\u001b[0m\u001b[0;34m,\u001b[0m \u001b[0my\u001b[0m\u001b[0;34m=\u001b[0m\u001b[0;34m\"new_edge\"\u001b[0m\u001b[0;34m,\u001b[0m \u001b[0mdata\u001b[0m\u001b[0;34m=\u001b[0m\u001b[0mdf_p_values\u001b[0m\u001b[0;34m[\u001b[0m\u001b[0mmask\u001b[0m\u001b[0;34m]\u001b[0m\u001b[0;34m,\u001b[0m \u001b[0max\u001b[0m\u001b[0;34m=\u001b[0m\u001b[0maxes\u001b[0m\u001b[0;34m[\u001b[0m\u001b[0;36m2\u001b[0m\u001b[0;34m]\u001b[0m\u001b[0;34m)\u001b[0m\u001b[0;34m\u001b[0m\u001b[0;34m\u001b[0m\u001b[0m\n",
      "\u001b[0;32m~/.local/share/virtualenvs/schmidt_geconn-js2EyY9C/lib/python3.6/site-packages/seaborn/regression.py\u001b[0m in \u001b[0;36mregplot\u001b[0;34m(x, y, data, x_estimator, x_bins, x_ci, scatter, fit_reg, ci, n_boot, units, order, logistic, lowess, robust, logx, x_partial, y_partial, truncate, dropna, x_jitter, y_jitter, label, color, marker, scatter_kws, line_kws, ax)\u001b[0m\n\u001b[1;32m    787\u001b[0m     \u001b[0mscatter_kws\u001b[0m\u001b[0;34m[\u001b[0m\u001b[0;34m\"marker\"\u001b[0m\u001b[0;34m]\u001b[0m \u001b[0;34m=\u001b[0m \u001b[0mmarker\u001b[0m\u001b[0;34m\u001b[0m\u001b[0;34m\u001b[0m\u001b[0m\n\u001b[1;32m    788\u001b[0m     \u001b[0mline_kws\u001b[0m \u001b[0;34m=\u001b[0m \u001b[0;34m{\u001b[0m\u001b[0;34m}\u001b[0m \u001b[0;32mif\u001b[0m \u001b[0mline_kws\u001b[0m \u001b[0;32mis\u001b[0m \u001b[0;32mNone\u001b[0m \u001b[0;32melse\u001b[0m \u001b[0mcopy\u001b[0m\u001b[0;34m.\u001b[0m\u001b[0mcopy\u001b[0m\u001b[0;34m(\u001b[0m\u001b[0mline_kws\u001b[0m\u001b[0;34m)\u001b[0m\u001b[0;34m\u001b[0m\u001b[0;34m\u001b[0m\u001b[0m\n\u001b[0;32m--> 789\u001b[0;31m     \u001b[0mplotter\u001b[0m\u001b[0;34m.\u001b[0m\u001b[0mplot\u001b[0m\u001b[0;34m(\u001b[0m\u001b[0max\u001b[0m\u001b[0;34m,\u001b[0m \u001b[0mscatter_kws\u001b[0m\u001b[0;34m,\u001b[0m \u001b[0mline_kws\u001b[0m\u001b[0;34m)\u001b[0m\u001b[0;34m\u001b[0m\u001b[0;34m\u001b[0m\u001b[0m\n\u001b[0m\u001b[1;32m    790\u001b[0m     \u001b[0;32mreturn\u001b[0m \u001b[0max\u001b[0m\u001b[0;34m\u001b[0m\u001b[0;34m\u001b[0m\u001b[0m\n\u001b[1;32m    791\u001b[0m \u001b[0;34m\u001b[0m\u001b[0m\n",
      "\u001b[0;32m~/.local/share/virtualenvs/schmidt_geconn-js2EyY9C/lib/python3.6/site-packages/seaborn/regression.py\u001b[0m in \u001b[0;36mplot\u001b[0;34m(self, ax, scatter_kws, line_kws)\u001b[0m\n\u001b[1;32m    342\u001b[0m             \u001b[0mself\u001b[0m\u001b[0;34m.\u001b[0m\u001b[0mscatterplot\u001b[0m\u001b[0;34m(\u001b[0m\u001b[0max\u001b[0m\u001b[0;34m,\u001b[0m \u001b[0mscatter_kws\u001b[0m\u001b[0;34m)\u001b[0m\u001b[0;34m\u001b[0m\u001b[0;34m\u001b[0m\u001b[0m\n\u001b[1;32m    343\u001b[0m         \u001b[0;32mif\u001b[0m \u001b[0mself\u001b[0m\u001b[0;34m.\u001b[0m\u001b[0mfit_reg\u001b[0m\u001b[0;34m:\u001b[0m\u001b[0;34m\u001b[0m\u001b[0;34m\u001b[0m\u001b[0m\n\u001b[0;32m--> 344\u001b[0;31m             \u001b[0mself\u001b[0m\u001b[0;34m.\u001b[0m\u001b[0mlineplot\u001b[0m\u001b[0;34m(\u001b[0m\u001b[0max\u001b[0m\u001b[0;34m,\u001b[0m \u001b[0mline_kws\u001b[0m\u001b[0;34m)\u001b[0m\u001b[0;34m\u001b[0m\u001b[0;34m\u001b[0m\u001b[0m\n\u001b[0m\u001b[1;32m    345\u001b[0m \u001b[0;34m\u001b[0m\u001b[0m\n\u001b[1;32m    346\u001b[0m         \u001b[0;31m# Label the axes\u001b[0m\u001b[0;34m\u001b[0m\u001b[0;34m\u001b[0m\u001b[0;34m\u001b[0m\u001b[0m\n",
      "\u001b[0;32m~/.local/share/virtualenvs/schmidt_geconn-js2EyY9C/lib/python3.6/site-packages/seaborn/regression.py\u001b[0m in \u001b[0;36mlineplot\u001b[0;34m(self, ax, kws)\u001b[0m\n\u001b[1;32m    387\u001b[0m \u001b[0;34m\u001b[0m\u001b[0m\n\u001b[1;32m    388\u001b[0m         \u001b[0;31m# Fit the regression model\u001b[0m\u001b[0;34m\u001b[0m\u001b[0;34m\u001b[0m\u001b[0;34m\u001b[0m\u001b[0m\n\u001b[0;32m--> 389\u001b[0;31m         \u001b[0mgrid\u001b[0m\u001b[0;34m,\u001b[0m \u001b[0myhat\u001b[0m\u001b[0;34m,\u001b[0m \u001b[0merr_bands\u001b[0m \u001b[0;34m=\u001b[0m \u001b[0mself\u001b[0m\u001b[0;34m.\u001b[0m\u001b[0mfit_regression\u001b[0m\u001b[0;34m(\u001b[0m\u001b[0max\u001b[0m\u001b[0;34m)\u001b[0m\u001b[0;34m\u001b[0m\u001b[0;34m\u001b[0m\u001b[0m\n\u001b[0m\u001b[1;32m    390\u001b[0m \u001b[0;34m\u001b[0m\u001b[0m\n\u001b[1;32m    391\u001b[0m         \u001b[0;31m# Get set default aesthetics\u001b[0m\u001b[0;34m\u001b[0m\u001b[0;34m\u001b[0m\u001b[0;34m\u001b[0m\u001b[0m\n",
      "\u001b[0;32m~/.local/share/virtualenvs/schmidt_geconn-js2EyY9C/lib/python3.6/site-packages/seaborn/regression.py\u001b[0m in \u001b[0;36mfit_regression\u001b[0;34m(self, ax, x_range, grid)\u001b[0m\n\u001b[1;32m    206\u001b[0m             \u001b[0myhat\u001b[0m\u001b[0;34m,\u001b[0m \u001b[0myhat_boots\u001b[0m \u001b[0;34m=\u001b[0m \u001b[0mself\u001b[0m\u001b[0;34m.\u001b[0m\u001b[0mfit_logx\u001b[0m\u001b[0;34m(\u001b[0m\u001b[0mgrid\u001b[0m\u001b[0;34m)\u001b[0m\u001b[0;34m\u001b[0m\u001b[0;34m\u001b[0m\u001b[0m\n\u001b[1;32m    207\u001b[0m         \u001b[0;32melse\u001b[0m\u001b[0;34m:\u001b[0m\u001b[0;34m\u001b[0m\u001b[0;34m\u001b[0m\u001b[0m\n\u001b[0;32m--> 208\u001b[0;31m             \u001b[0myhat\u001b[0m\u001b[0;34m,\u001b[0m \u001b[0myhat_boots\u001b[0m \u001b[0;34m=\u001b[0m \u001b[0mself\u001b[0m\u001b[0;34m.\u001b[0m\u001b[0mfit_fast\u001b[0m\u001b[0;34m(\u001b[0m\u001b[0mgrid\u001b[0m\u001b[0;34m)\u001b[0m\u001b[0;34m\u001b[0m\u001b[0;34m\u001b[0m\u001b[0m\n\u001b[0m\u001b[1;32m    209\u001b[0m \u001b[0;34m\u001b[0m\u001b[0m\n\u001b[1;32m    210\u001b[0m         \u001b[0;31m# Compute the confidence interval at each grid point\u001b[0m\u001b[0;34m\u001b[0m\u001b[0;34m\u001b[0m\u001b[0;34m\u001b[0m\u001b[0m\n",
      "\u001b[0;32m~/.local/share/virtualenvs/schmidt_geconn-js2EyY9C/lib/python3.6/site-packages/seaborn/regression.py\u001b[0m in \u001b[0;36mfit_fast\u001b[0;34m(self, grid)\u001b[0m\n\u001b[1;32m    223\u001b[0m         \u001b[0mX\u001b[0m\u001b[0;34m,\u001b[0m \u001b[0my\u001b[0m \u001b[0;34m=\u001b[0m \u001b[0mnp\u001b[0m\u001b[0;34m.\u001b[0m\u001b[0mc_\u001b[0m\u001b[0;34m[\u001b[0m\u001b[0mnp\u001b[0m\u001b[0;34m.\u001b[0m\u001b[0mones\u001b[0m\u001b[0;34m(\u001b[0m\u001b[0mlen\u001b[0m\u001b[0;34m(\u001b[0m\u001b[0mself\u001b[0m\u001b[0;34m.\u001b[0m\u001b[0mx\u001b[0m\u001b[0;34m)\u001b[0m\u001b[0;34m)\u001b[0m\u001b[0;34m,\u001b[0m \u001b[0mself\u001b[0m\u001b[0;34m.\u001b[0m\u001b[0mx\u001b[0m\u001b[0;34m]\u001b[0m\u001b[0;34m,\u001b[0m \u001b[0mself\u001b[0m\u001b[0;34m.\u001b[0m\u001b[0my\u001b[0m\u001b[0;34m\u001b[0m\u001b[0;34m\u001b[0m\u001b[0m\n\u001b[1;32m    224\u001b[0m         \u001b[0mgrid\u001b[0m \u001b[0;34m=\u001b[0m \u001b[0mnp\u001b[0m\u001b[0;34m.\u001b[0m\u001b[0mc_\u001b[0m\u001b[0;34m[\u001b[0m\u001b[0mnp\u001b[0m\u001b[0;34m.\u001b[0m\u001b[0mones\u001b[0m\u001b[0;34m(\u001b[0m\u001b[0mlen\u001b[0m\u001b[0;34m(\u001b[0m\u001b[0mgrid\u001b[0m\u001b[0;34m)\u001b[0m\u001b[0;34m)\u001b[0m\u001b[0;34m,\u001b[0m \u001b[0mgrid\u001b[0m\u001b[0;34m]\u001b[0m\u001b[0;34m\u001b[0m\u001b[0;34m\u001b[0m\u001b[0m\n\u001b[0;32m--> 225\u001b[0;31m         \u001b[0myhat\u001b[0m \u001b[0;34m=\u001b[0m \u001b[0mgrid\u001b[0m\u001b[0;34m.\u001b[0m\u001b[0mdot\u001b[0m\u001b[0;34m(\u001b[0m\u001b[0mreg_func\u001b[0m\u001b[0;34m(\u001b[0m\u001b[0mX\u001b[0m\u001b[0;34m,\u001b[0m \u001b[0my\u001b[0m\u001b[0;34m)\u001b[0m\u001b[0;34m)\u001b[0m\u001b[0;34m\u001b[0m\u001b[0;34m\u001b[0m\u001b[0m\n\u001b[0m\u001b[1;32m    226\u001b[0m         \u001b[0;32mif\u001b[0m \u001b[0mself\u001b[0m\u001b[0;34m.\u001b[0m\u001b[0mci\u001b[0m \u001b[0;32mis\u001b[0m \u001b[0;32mNone\u001b[0m\u001b[0;34m:\u001b[0m\u001b[0;34m\u001b[0m\u001b[0;34m\u001b[0m\u001b[0m\n\u001b[1;32m    227\u001b[0m             \u001b[0;32mreturn\u001b[0m \u001b[0myhat\u001b[0m\u001b[0;34m,\u001b[0m \u001b[0;32mNone\u001b[0m\u001b[0;34m\u001b[0m\u001b[0;34m\u001b[0m\u001b[0m\n",
      "\u001b[0;32m~/.local/share/virtualenvs/schmidt_geconn-js2EyY9C/lib/python3.6/site-packages/seaborn/regression.py\u001b[0m in \u001b[0;36mreg_func\u001b[0;34m(_x, _y)\u001b[0m\n\u001b[1;32m    219\u001b[0m         \u001b[0;34m\"\"\"Low-level regression and prediction using linear algebra.\"\"\"\u001b[0m\u001b[0;34m\u001b[0m\u001b[0;34m\u001b[0m\u001b[0m\n\u001b[1;32m    220\u001b[0m         \u001b[0;32mdef\u001b[0m \u001b[0mreg_func\u001b[0m\u001b[0;34m(\u001b[0m\u001b[0m_x\u001b[0m\u001b[0;34m,\u001b[0m \u001b[0m_y\u001b[0m\u001b[0;34m)\u001b[0m\u001b[0;34m:\u001b[0m\u001b[0;34m\u001b[0m\u001b[0;34m\u001b[0m\u001b[0m\n\u001b[0;32m--> 221\u001b[0;31m             \u001b[0;32mreturn\u001b[0m \u001b[0mnp\u001b[0m\u001b[0;34m.\u001b[0m\u001b[0mlinalg\u001b[0m\u001b[0;34m.\u001b[0m\u001b[0mpinv\u001b[0m\u001b[0;34m(\u001b[0m\u001b[0m_x\u001b[0m\u001b[0;34m)\u001b[0m\u001b[0;34m.\u001b[0m\u001b[0mdot\u001b[0m\u001b[0;34m(\u001b[0m\u001b[0m_y\u001b[0m\u001b[0;34m)\u001b[0m\u001b[0;34m\u001b[0m\u001b[0;34m\u001b[0m\u001b[0m\n\u001b[0m\u001b[1;32m    222\u001b[0m \u001b[0;34m\u001b[0m\u001b[0m\n\u001b[1;32m    223\u001b[0m         \u001b[0mX\u001b[0m\u001b[0;34m,\u001b[0m \u001b[0my\u001b[0m \u001b[0;34m=\u001b[0m \u001b[0mnp\u001b[0m\u001b[0;34m.\u001b[0m\u001b[0mc_\u001b[0m\u001b[0;34m[\u001b[0m\u001b[0mnp\u001b[0m\u001b[0;34m.\u001b[0m\u001b[0mones\u001b[0m\u001b[0;34m(\u001b[0m\u001b[0mlen\u001b[0m\u001b[0;34m(\u001b[0m\u001b[0mself\u001b[0m\u001b[0;34m.\u001b[0m\u001b[0mx\u001b[0m\u001b[0;34m)\u001b[0m\u001b[0;34m)\u001b[0m\u001b[0;34m,\u001b[0m \u001b[0mself\u001b[0m\u001b[0;34m.\u001b[0m\u001b[0mx\u001b[0m\u001b[0;34m]\u001b[0m\u001b[0;34m,\u001b[0m \u001b[0mself\u001b[0m\u001b[0;34m.\u001b[0m\u001b[0my\u001b[0m\u001b[0;34m\u001b[0m\u001b[0;34m\u001b[0m\u001b[0m\n",
      "\u001b[0;32m<__array_function__ internals>\u001b[0m in \u001b[0;36mpinv\u001b[0;34m(*args, **kwargs)\u001b[0m\n",
      "\u001b[0;32m~/.local/share/virtualenvs/schmidt_geconn-js2EyY9C/lib/python3.6/site-packages/numpy/linalg/linalg.py\u001b[0m in \u001b[0;36mpinv\u001b[0;34m(a, rcond, hermitian)\u001b[0m\n\u001b[1;32m   1968\u001b[0m         \u001b[0;32mreturn\u001b[0m \u001b[0mwrap\u001b[0m\u001b[0;34m(\u001b[0m\u001b[0mres\u001b[0m\u001b[0;34m)\u001b[0m\u001b[0;34m\u001b[0m\u001b[0;34m\u001b[0m\u001b[0m\n\u001b[1;32m   1969\u001b[0m     \u001b[0ma\u001b[0m \u001b[0;34m=\u001b[0m \u001b[0ma\u001b[0m\u001b[0;34m.\u001b[0m\u001b[0mconjugate\u001b[0m\u001b[0;34m(\u001b[0m\u001b[0;34m)\u001b[0m\u001b[0;34m\u001b[0m\u001b[0;34m\u001b[0m\u001b[0m\n\u001b[0;32m-> 1970\u001b[0;31m     \u001b[0mu\u001b[0m\u001b[0;34m,\u001b[0m \u001b[0ms\u001b[0m\u001b[0;34m,\u001b[0m \u001b[0mvt\u001b[0m \u001b[0;34m=\u001b[0m \u001b[0msvd\u001b[0m\u001b[0;34m(\u001b[0m\u001b[0ma\u001b[0m\u001b[0;34m,\u001b[0m \u001b[0mfull_matrices\u001b[0m\u001b[0;34m=\u001b[0m\u001b[0;32mFalse\u001b[0m\u001b[0;34m,\u001b[0m \u001b[0mhermitian\u001b[0m\u001b[0;34m=\u001b[0m\u001b[0mhermitian\u001b[0m\u001b[0;34m)\u001b[0m\u001b[0;34m\u001b[0m\u001b[0;34m\u001b[0m\u001b[0m\n\u001b[0m\u001b[1;32m   1971\u001b[0m \u001b[0;34m\u001b[0m\u001b[0m\n\u001b[1;32m   1972\u001b[0m     \u001b[0;31m# discard small singular values\u001b[0m\u001b[0;34m\u001b[0m\u001b[0;34m\u001b[0m\u001b[0;34m\u001b[0m\u001b[0m\n",
      "\u001b[0;32m<__array_function__ internals>\u001b[0m in \u001b[0;36msvd\u001b[0;34m(*args, **kwargs)\u001b[0m\n",
      "\u001b[0;32m~/.local/share/virtualenvs/schmidt_geconn-js2EyY9C/lib/python3.6/site-packages/numpy/linalg/linalg.py\u001b[0m in \u001b[0;36msvd\u001b[0;34m(a, full_matrices, compute_uv, hermitian)\u001b[0m\n\u001b[1;32m   1634\u001b[0m \u001b[0;34m\u001b[0m\u001b[0m\n\u001b[1;32m   1635\u001b[0m         \u001b[0msignature\u001b[0m \u001b[0;34m=\u001b[0m \u001b[0;34m'D->DdD'\u001b[0m \u001b[0;32mif\u001b[0m \u001b[0misComplexType\u001b[0m\u001b[0;34m(\u001b[0m\u001b[0mt\u001b[0m\u001b[0;34m)\u001b[0m \u001b[0;32melse\u001b[0m \u001b[0;34m'd->ddd'\u001b[0m\u001b[0;34m\u001b[0m\u001b[0;34m\u001b[0m\u001b[0m\n\u001b[0;32m-> 1636\u001b[0;31m         \u001b[0mu\u001b[0m\u001b[0;34m,\u001b[0m \u001b[0ms\u001b[0m\u001b[0;34m,\u001b[0m \u001b[0mvh\u001b[0m \u001b[0;34m=\u001b[0m \u001b[0mgufunc\u001b[0m\u001b[0;34m(\u001b[0m\u001b[0ma\u001b[0m\u001b[0;34m,\u001b[0m \u001b[0msignature\u001b[0m\u001b[0;34m=\u001b[0m\u001b[0msignature\u001b[0m\u001b[0;34m,\u001b[0m \u001b[0mextobj\u001b[0m\u001b[0;34m=\u001b[0m\u001b[0mextobj\u001b[0m\u001b[0;34m)\u001b[0m\u001b[0;34m\u001b[0m\u001b[0;34m\u001b[0m\u001b[0m\n\u001b[0m\u001b[1;32m   1637\u001b[0m         \u001b[0mu\u001b[0m \u001b[0;34m=\u001b[0m \u001b[0mu\u001b[0m\u001b[0;34m.\u001b[0m\u001b[0mastype\u001b[0m\u001b[0;34m(\u001b[0m\u001b[0mresult_t\u001b[0m\u001b[0;34m,\u001b[0m \u001b[0mcopy\u001b[0m\u001b[0;34m=\u001b[0m\u001b[0;32mFalse\u001b[0m\u001b[0;34m)\u001b[0m\u001b[0;34m\u001b[0m\u001b[0;34m\u001b[0m\u001b[0m\n\u001b[1;32m   1638\u001b[0m         \u001b[0ms\u001b[0m \u001b[0;34m=\u001b[0m \u001b[0ms\u001b[0m\u001b[0;34m.\u001b[0m\u001b[0mastype\u001b[0m\u001b[0;34m(\u001b[0m\u001b[0m_realType\u001b[0m\u001b[0;34m(\u001b[0m\u001b[0mresult_t\u001b[0m\u001b[0;34m)\u001b[0m\u001b[0;34m,\u001b[0m \u001b[0mcopy\u001b[0m\u001b[0;34m=\u001b[0m\u001b[0;32mFalse\u001b[0m\u001b[0;34m)\u001b[0m\u001b[0;34m\u001b[0m\u001b[0;34m\u001b[0m\u001b[0m\n",
      "\u001b[0;31mTypeError\u001b[0m: No loop matching the specified signature and casting was found for ufunc svd_n_s"
     ]
    },
    {
     "data": {
      "image/png": "[encoded data removed]",
      "text/plain": [
       "<Figure size 648x216 with 3 Axes>"
      ]
     },
     "metadata": {
      "needs_background": "light"
     },
     "output_type": "display_data"
    }
   ],
   "source": [
    "import seaborn as sns\n",
    "import matplotlib.pyplot as plt\n",
    "\n",
    "for mask in masks:\n",
    "    fig, axes = plt.subplots(ncols=3, figsize=(9,3), sharey=True)\n",
    "    sns.regplot(x=\"old_agno\", y=\"new_agno\", data=df_p_values[mask], ax=axes[0])\n",
    "    sns.regplot(x=\"old_dist\", y=\"new_dist\", data=df_p_values[mask], ax=axes[1])\n",
    "    sns.regplot(x=\"old_edge\", y=\"new_edge\", data=df_p_values[mask], ax=axes[2])\n",
    "    fig.savefig(\"./old_vs_new_p_{}.png\".format(mask))"
   ]
  },
  {
   "cell_type": "code",
   "execution_count": 11,
   "metadata": {},
   "outputs": [
    {
     "data": {
      "text/html": [
       "<div>\n",
       "<style scoped>\n",
       "    .dataframe tbody tr th:only-of-type {\n",
       "        vertical-align: middle;\n",
       "    }\n",
       "\n",
       "    .dataframe tbody tr th {\n",
       "        vertical-align: top;\n",
       "    }\n",
       "\n",
       "    .dataframe thead th {\n",
       "        text-align: right;\n",
       "    }\n",
       "</style>\n",
       "<table border=\"1\" class=\"dataframe\">\n",
       "  <thead>\n",
       "    <tr style=\"text-align: right;\">\n",
       "      <th></th>\n",
       "      <th>entrez_id</th>\n",
       "      <th>gene_symbol</th>\n",
       "      <th>old_agno</th>\n",
       "      <th>old_dist</th>\n",
       "      <th>old_edge</th>\n",
       "      <th>new_agno</th>\n",
       "      <th>new_dist</th>\n",
       "      <th>new_edge</th>\n",
       "    </tr>\n",
       "  </thead>\n",
       "  <tbody>\n",
       "    <tr>\n",
       "      <th>1039414</th>\n",
       "      <td>79048</td>\n",
       "      <td>SECISBP2</td>\n",
       "      <td>0.145752</td>\n",
       "      <td>0.881104</td>\n",
       "      <td>0.969727</td>\n",
       "      <td>0.156250</td>\n",
       "      <td>0.925781</td>\n",
       "      <td>0.992188</td>\n",
       "    </tr>\n",
       "    <tr>\n",
       "      <th>1051636</th>\n",
       "      <td>6451</td>\n",
       "      <td>SH3BGRL</td>\n",
       "      <td>0.302979</td>\n",
       "      <td>0.717285</td>\n",
       "      <td>0.953857</td>\n",
       "      <td>0.312500</td>\n",
       "      <td>0.769531</td>\n",
       "      <td>0.984375</td>\n",
       "    </tr>\n",
       "    <tr>\n",
       "      <th>1062385</th>\n",
       "      <td>6646</td>\n",
       "      <td>SOAT1</td>\n",
       "      <td>0.0273438</td>\n",
       "      <td>0.422363</td>\n",
       "      <td>0.916992</td>\n",
       "      <td>0.023438</td>\n",
       "      <td>0.457031</td>\n",
       "      <td>0.914062</td>\n",
       "    </tr>\n",
       "    <tr>\n",
       "      <th>1036637</th>\n",
       "      <td>92106</td>\n",
       "      <td>OXNAD1</td>\n",
       "      <td>0.107178</td>\n",
       "      <td>0.625488</td>\n",
       "      <td>0.726074</td>\n",
       "      <td>0.117188</td>\n",
       "      <td>0.691406</td>\n",
       "      <td>0.761719</td>\n",
       "    </tr>\n",
       "    <tr>\n",
       "      <th>1017071</th>\n",
       "      <td>58486</td>\n",
       "      <td>ZBED5</td>\n",
       "      <td>0.170166</td>\n",
       "      <td>0.64917</td>\n",
       "      <td>0.658936</td>\n",
       "      <td>0.175781</td>\n",
       "      <td>0.699219</td>\n",
       "      <td>0.773438</td>\n",
       "    </tr>\n",
       "    <tr>\n",
       "      <th>...</th>\n",
       "      <td>...</td>\n",
       "      <td>...</td>\n",
       "      <td>...</td>\n",
       "      <td>...</td>\n",
       "      <td>...</td>\n",
       "      <td>...</td>\n",
       "      <td>...</td>\n",
       "      <td>...</td>\n",
       "    </tr>\n",
       "    <tr>\n",
       "      <th>1051216</th>\n",
       "      <td>6663</td>\n",
       "      <td>SOX10</td>\n",
       "      <td>0.911865</td>\n",
       "      <td>0.709717</td>\n",
       "      <td>0.243164</td>\n",
       "      <td>0.894531</td>\n",
       "      <td>0.640625</td>\n",
       "      <td>0.089844</td>\n",
       "    </tr>\n",
       "    <tr>\n",
       "      <th>1031623</th>\n",
       "      <td>374907</td>\n",
       "      <td>B3GNT8</td>\n",
       "      <td>0.818604</td>\n",
       "      <td>0.527588</td>\n",
       "      <td>0.503174</td>\n",
       "      <td>0.742188</td>\n",
       "      <td>0.308594</td>\n",
       "      <td>0.238281</td>\n",
       "    </tr>\n",
       "    <tr>\n",
       "      <th>1047516</th>\n",
       "      <td>10350</td>\n",
       "      <td>ABCA9</td>\n",
       "      <td>0.729492</td>\n",
       "      <td>0.378174</td>\n",
       "      <td>0.0935059</td>\n",
       "      <td>0.667969</td>\n",
       "      <td>0.234375</td>\n",
       "      <td>0.015625</td>\n",
       "    </tr>\n",
       "    <tr>\n",
       "      <th>1018129</th>\n",
       "      <td>84968</td>\n",
       "      <td>PNMA6A</td>\n",
       "      <td>0.874512</td>\n",
       "      <td>0.66626</td>\n",
       "      <td>0.160156</td>\n",
       "      <td>0.750000</td>\n",
       "      <td>0.398438</td>\n",
       "      <td>0.000000</td>\n",
       "    </tr>\n",
       "    <tr>\n",
       "      <th>1053551</th>\n",
       "      <td>4907</td>\n",
       "      <td>NT5E</td>\n",
       "      <td>0.997314</td>\n",
       "      <td>0.831055</td>\n",
       "      <td>0.872559</td>\n",
       "      <td>1.000000</td>\n",
       "      <td>0.812500</td>\n",
       "      <td>0.886719</td>\n",
       "    </tr>\n",
       "  </tbody>\n",
       "</table>\n",
       "<p>15745 rows × 8 columns</p>\n",
       "</div>"
      ],
      "text/plain": [
       "         entrez_id gene_symbol   old_agno  old_dist   old_edge  new_agno  \\\n",
       "1039414      79048    SECISBP2   0.145752  0.881104   0.969727  0.156250   \n",
       "1051636       6451     SH3BGRL   0.302979  0.717285   0.953857  0.312500   \n",
       "1062385       6646       SOAT1  0.0273438  0.422363   0.916992  0.023438   \n",
       "1036637      92106      OXNAD1   0.107178  0.625488   0.726074  0.117188   \n",
       "1017071      58486       ZBED5   0.170166   0.64917   0.658936  0.175781   \n",
       "...            ...         ...        ...       ...        ...       ...   \n",
       "1051216       6663       SOX10   0.911865  0.709717   0.243164  0.894531   \n",
       "1031623     374907      B3GNT8   0.818604  0.527588   0.503174  0.742188   \n",
       "1047516      10350       ABCA9   0.729492  0.378174  0.0935059  0.667969   \n",
       "1018129      84968      PNMA6A   0.874512   0.66626   0.160156  0.750000   \n",
       "1053551       4907        NT5E   0.997314  0.831055   0.872559  1.000000   \n",
       "\n",
       "         new_dist  new_edge  \n",
       "1039414  0.925781  0.992188  \n",
       "1051636  0.769531  0.984375  \n",
       "1062385  0.457031  0.914062  \n",
       "1036637  0.691406  0.761719  \n",
       "1017071  0.699219  0.773438  \n",
       "...           ...       ...  \n",
       "1051216  0.640625  0.089844  \n",
       "1031623  0.308594  0.238281  \n",
       "1047516  0.234375  0.015625  \n",
       "1018129  0.398438  0.000000  \n",
       "1053551  0.812500  0.886719  \n",
       "\n",
       "[15745 rows x 8 columns]"
      ]
     },
     "execution_count": 11,
     "metadata": {},
     "output_type": "execute_result"
    }
   ],
   "source": [
    "df_p_values['32']"
   ]
  },
  {
   "cell_type": "code",
   "execution_count": 13,
   "metadata": {},
   "outputs": [],
   "source": [
    "\"\"\" Define a kernel-density plot to assist in visualizing the distributions of rankings. \"\"\"\n",
    "\n",
    "import seaborn as sns\n",
    "import matplotlib.pyplot as plt\n",
    "\n",
    "flatten = lambda l: [x for y in l for x in y]\n",
    "\n",
    "def plot_entrez_id(entrez_id, rank_data, p_data, algo):\n",
    "    \"\"\" Plot ranking distributions for one entrez id. \"\"\"\n",
    "    fig, ax = plt.subplots()\n",
    "    real_list = flatten(rank_data[rank_data['entrez_id'] == entrez_id][[x for x in rank_data.columns if \"real\" in x]].values)\n",
    "    real_label = \"real\"\n",
    "    sns.distplot(real_list, ax=ax, kde_kws={\"color\": \"black\", \"label\": real_label}, hist_kws={\"color\": \"gray\"})\n",
    "    agno_list = flatten(rank_data[rank_data['entrez_id'] == entrez_id][[x for x in rank_data.columns if \"agno\" in x]].values)\n",
    "    agno_label = \"vs agno, p = {:0.5f}\".format(p_data.loc[entrez_id, algo + '_agno'])\n",
    "    sns.distplot(agno_list, ax=ax, kde_kws={\"color\": \"green\", \"label\": agno_label}, hist_kws={\"color\": \"lightgreen\"})\n",
    "    dist_list = flatten(rank_data[rank_data['entrez_id'] == entrez_id][[x for x in rank_data.columns if \"dist\" in x]].values)\n",
    "    dist_label = \"vs dist, p = {:0.5f}\".format(p_data.loc[entrez_id, algo + '_dist'])\n",
    "    sns.distplot(dist_list, ax=ax, kde_kws={\"color\": \"red\", \"label\": dist_label}, hist_kws={\"color\": \"mistyrose\"})\n",
    "    edge_list = flatten(rank_data[rank_data['entrez_id'] == entrez_id][[x for x in rank_data.columns if \"edge\" in x]].values)\n",
    "    edge_label = \"vs edge, p = {:0.5f}\".format(p_data.loc[entrez_id, algo + '_edge'])\n",
    "    sns.distplot(edge_list, ax=ax, kde_kws={\"color\": \"magenta\", \"label\": edge_label}, hist_kws={\"color\": \"lavenderblush\"})\n",
    "    fig.suptitle(\"Entrez ID {} ({} p)\".format(entrez_id, algo))\n",
    "    return fig, ax\n",
    "\n",
    "# f, a = plot_entrez_id(57622, rankings[\"16\"], df_p_values[\"16\"].set_index('entrez_id'))"
   ]
  },
  {
   "cell_type": "code",
   "execution_count": 14,
   "metadata": {},
   "outputs": [
    {
     "name": "stdout",
     "output_type": "stream",
     "text": [
      "00 new_agno 369 probes with p < 0.05\n",
      "00 new_dist 44 probes with p < 0.05\n",
      "00 new_edge 3,939 probes with p < 0.05\n",
      "Mask 00 has 5 probes surviving all new p-tests.\n",
      "    [9607, 9734, 57622, 80036, 130367]\n",
      "Mask 00 has 11610 probes failing all new p-tests.\n",
      "    [1, 2, 12, 16, 18, 19, 20, 21, 22, 23, 25, 27]\n",
      "00 old_agno 331 probes with p < 0.05\n",
      "00 old_dist 11 probes with p < 0.05\n",
      "00 old_edge 2,441 probes with p < 0.05\n",
      "Mask 00 has 6 probes surviving all old p-tests.\n",
      "    [9607, 9734, 10451, 10714, 57622, 80036]\n",
      "Mask 00 has 13112 probes failing all old p-tests.\n",
      "    [1, 2, 12, 14, 16, 18, 19, 20, 21, 22, 23, 25]\n",
      "16 new_agno 361 probes with p < 0.05\n",
      "16 new_dist 51 probes with p < 0.05\n",
      "16 new_edge 3,910 probes with p < 0.05\n",
      "Mask 16 has 5 probes surviving all new p-tests.\n",
      "    [9607, 9734, 57622, 80036, 130367]\n",
      "Mask 16 has 11636 probes failing all new p-tests.\n",
      "    [1, 2, 12, 16, 18, 19, 20, 21, 22, 23, 25, 27]\n",
      "16 old_agno 333 probes with p < 0.05\n",
      "16 old_dist 10 probes with p < 0.05\n",
      "16 old_edge 2,404 probes with p < 0.05\n",
      "Mask 16 has 5 probes surviving all old p-tests.\n",
      "    [9607, 9734, 10451, 57622, 80036]\n",
      "Mask 16 has 13140 probes failing all old p-tests.\n",
      "    [1, 2, 12, 14, 16, 18, 19, 20, 21, 22, 23, 25]\n",
      "32 new_agno 358 probes with p < 0.05\n",
      "32 new_dist 50 probes with p < 0.05\n",
      "32 new_edge 3,760 probes with p < 0.05\n",
      "Mask 32 has 7 probes surviving all new p-tests.\n",
      "    [9607, 9734, 57622, 80036, 130367, 150568, 171019]\n",
      "Mask 32 has 11788 probes failing all new p-tests.\n",
      "    [1, 2, 12, 16, 18, 19, 20, 21, 22, 23, 25, 27]\n",
      "32 old_agno 331 probes with p < 0.05\n",
      "32 old_dist 12 probes with p < 0.05\n",
      "32 old_edge 2,319 probes with p < 0.05\n",
      "Mask 32 has 5 probes surviving all old p-tests.\n",
      "    [9607, 9734, 57622, 80036, 171019]\n",
      "Mask 32 has 13228 probes failing all old p-tests.\n",
      "    [1, 2, 12, 14, 16, 18, 19, 20, 21, 22, 23, 25]\n",
      "64 new_agno 360 probes with p < 0.05\n",
      "64 new_dist 36 probes with p < 0.05\n",
      "64 new_edge 3,147 probes with p < 0.05\n",
      "Mask 64 has 5 probes surviving all new p-tests.\n",
      "    [9607, 9734, 57622, 171019, 389119]\n",
      "Mask 64 has 12407 probes failing all new p-tests.\n",
      "    [1, 2, 12, 16, 18, 19, 20, 21, 22, 23, 25, 27]\n",
      "64 old_agno 333 probes with p < 0.05\n",
      "64 old_dist 9 probes with p < 0.05\n",
      "64 old_edge 1,954 probes with p < 0.05\n",
      "Mask 64 has 4 probes surviving all old p-tests.\n",
      "    [9607, 9734, 57622, 80036]\n",
      "Mask 64 has 13597 probes failing all old p-tests.\n",
      "    [1, 2, 12, 14, 16, 18, 19, 20, 21, 22, 23, 25]\n"
     ]
    },
    {
     "data": {
      "text/plain": [
       "<Figure size 432x288 with 0 Axes>"
      ]
     },
     "metadata": {},
     "output_type": "display_data"
    },
    {
     "data": {
      "text/plain": [
       "<Figure size 432x288 with 0 Axes>"
      ]
     },
     "metadata": {},
     "output_type": "display_data"
    },
    {
     "data": {
      "text/plain": [
       "<Figure size 432x288 with 0 Axes>"
      ]
     },
     "metadata": {},
     "output_type": "display_data"
    },
    {
     "data": {
      "text/plain": [
       "<Figure size 432x288 with 0 Axes>"
      ]
     },
     "metadata": {},
     "output_type": "display_data"
    },
    {
     "data": {
      "text/plain": [
       "<Figure size 432x288 with 0 Axes>"
      ]
     },
     "metadata": {},
     "output_type": "display_data"
    },
    {
     "data": {
      "text/plain": [
       "<Figure size 432x288 with 0 Axes>"
      ]
     },
     "metadata": {},
     "output_type": "display_data"
    },
    {
     "data": {
      "text/plain": [
       "<Figure size 432x288 with 0 Axes>"
      ]
     },
     "metadata": {},
     "output_type": "display_data"
    },
    {
     "data": {
      "text/plain": [
       "<Figure size 432x288 with 0 Axes>"
      ]
     },
     "metadata": {},
     "output_type": "display_data"
    },
    {
     "data": {
      "text/plain": [
       "<Figure size 432x288 with 0 Axes>"
      ]
     },
     "metadata": {},
     "output_type": "display_data"
    },
    {
     "data": {
      "text/plain": [
       "<Figure size 432x288 with 0 Axes>"
      ]
     },
     "metadata": {},
     "output_type": "display_data"
    },
    {
     "data": {
      "text/plain": [
       "<Figure size 432x288 with 0 Axes>"
      ]
     },
     "metadata": {},
     "output_type": "display_data"
    },
    {
     "data": {
      "text/plain": [
       "<Figure size 432x288 with 0 Axes>"
      ]
     },
     "metadata": {},
     "output_type": "display_data"
    },
    {
     "data": {
      "text/plain": [
       "<Figure size 432x288 with 0 Axes>"
      ]
     },
     "metadata": {},
     "output_type": "display_data"
    },
    {
     "data": {
      "text/plain": [
       "<Figure size 432x288 with 0 Axes>"
      ]
     },
     "metadata": {},
     "output_type": "display_data"
    },
    {
     "data": {
      "text/plain": [
       "<Figure size 432x288 with 0 Axes>"
      ]
     },
     "metadata": {},
     "output_type": "display_data"
    },
    {
     "data": {
      "text/plain": [
       "<Figure size 432x288 with 0 Axes>"
      ]
     },
     "metadata": {},
     "output_type": "display_data"
    }
   ],
   "source": [
    "\"\"\" Save out a csv file with entrez ids ordered by p-value for each mask and shuffle type. \"\"\"\n",
    "\n",
    "import random\n",
    "\n",
    "for mask in masks:\n",
    "    for algo in [\"new\", \"old\", ]:\n",
    "        eids_all_good = set(df_p_values[mask]['entrez_id'])\n",
    "        eids_all_bad = set(df_p_values[mask]['entrez_id'])\n",
    "        for shuffle in shuffles:\n",
    "            print(\"{} {}_{} {:,} probes with p < 0.05\".format(\n",
    "                mask, algo, shuffle, (df_p_values[mask][algo + \"_\" + shuffle] < 0.05).sum()\n",
    "            ))\n",
    "            for id in [\"gene_symbol\", \"entrez_id\", ]:\n",
    "                df = df_p_values[mask][[id, algo + \"_\" + shuffle]].set_index(id).sort_values(algo + \"_\" + shuffle)\n",
    "                df = df.rename(columns={algo + \"_\" + shuffle: \"p\"})\n",
    "                df.to_csv(\"./hcpww{}s_{}_{}_p_by_{}.tsv\".format(mask, algo, shuffle, id), sep=\"\\t\")\n",
    "\n",
    "            eids_all_good = eids_all_good.intersection(set(df['p'][df['p'] < 0.05].index))\n",
    "            eids_all_bad = eids_all_bad.intersection(set(df['p'][df['p'] >= 0.05].index))\n",
    "\n",
    "        print(\"Mask {} has {} probes surviving all {} p-tests.\".format(mask, len(eids_all_good), algo))\n",
    "        print(\"    {}\".format(sorted(list(eids_all_good))[:12]))\n",
    "        eid_to_plot = random.sample(eids_all_good, 3)[0]\n",
    "        f, a = plot_entrez_id(eid_to_plot, rankings[mask], df_p_values[mask].set_index('entrez_id'), algo)\n",
    "        f.savefig(\"good_{}_{}.png\".format(mask, eid_to_plot))\n",
    "        f.clear()\n",
    "\n",
    "        print(\"Mask {} has {} probes failing all {} p-tests.\".format(mask, len(eids_all_bad), algo))\n",
    "        print(\"    {}\".format(sorted(list(eids_all_bad))[:12]))\n",
    "        eid_to_plot = random.sample(eids_all_bad, 3)[0]\n",
    "        f, a = plot_entrez_id(eid_to_plot, rankings[mask], df_p_values[mask].set_index('entrez_id'), algo)    \n",
    "        f.savefig(\"bad_{}_{}.png\".format(mask, eid_to_plot))\n",
    "        f.clear()\n"
   ]
  },
  {
   "cell_type": "code",
   "execution_count": null,
   "metadata": {},
   "outputs": [],
   "source": [
    "\"\"\" No longer necessary\n",
    "    This was written to convert an old csv format to tsv, but all current files are already tsv. \"\"\"\n",
    "\n",
    "import pandas as pd\n",
    "import os\n",
    "\n",
    "for mask in masks:\n",
    "    for shuffle in shuffles:\n",
    "        for p_algo in [\"new\", \"old\", ]:\n",
    "            filename = \"./hcpww{}s_{}_{}_p\".format(mask, p_algo, shuffle)\n",
    "            if os.path.isfile(filename + \".csv\"):\n",
    "                print(\"Converting {}\".format(filename))\n",
    "                df = pd.read_csv(filename + \".csv\", index_col=0)\n",
    "                df.to_csv(filename + \".tsv\", sep=\"\\t\")"
   ]
  }
 ],
 "metadata": {
  "kernelspec": {
   "display_name": "schmidt_geconn",
   "language": "python",
   "name": "schmidt_geconn"
  },
  "language_info": {
   "codemirror_mode": {
    "name": "ipython",
    "version": 3
   },
   "file_extension": ".py",
   "mimetype": "text/x-python",
   "name": "python",
   "nbconvert_exporter": "python",
   "pygments_lexer": "ipython3",
   "version": "3.6.8"
  }
 },
 "nbformat": 4,
 "nbformat_minor": 4
}
