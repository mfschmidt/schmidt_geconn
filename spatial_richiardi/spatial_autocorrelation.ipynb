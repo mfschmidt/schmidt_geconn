{
 "cells": [
  {
   "cell_type": "markdown",
   "metadata": {},
   "source": [
    "# Spatial Autocorrelation Analysis\n",
    "\n",
    "I redo some of Spiro's work because matlab seems to like matrices of raw data, while I like to maintain meaningful labels on the row indices and column names. It helps me to keep my sanity and think more clearly about what the data represent as I manipulate and report them at each step."
   ]
  },
  {
   "cell_type": "markdown",
   "metadata": {},
   "source": [
    "## Loading and organizing data"
   ]
  },
  {
   "cell_type": "code",
   "execution_count": 1,
   "metadata": {},
   "outputs": [],
   "source": [
    "import pandas as pd\n",
    "\n",
    "expr_file = \"../MA_resid.mat\"\n",
    "top_genes_file = \"../136_genes.txt\""
   ]
  },
  {
   "cell_type": "code",
   "execution_count": 2,
   "metadata": {},
   "outputs": [],
   "source": [
    "from scipy import io\n",
    "\n",
    "\"\"\" Load the matlab file from disk. \"\"\"\n",
    "\n",
    "matlab_data = io.loadmat(expr_file, squeeze_me=True)"
   ]
  },
  {
   "cell_type": "code",
   "execution_count": 3,
   "metadata": {},
   "outputs": [],
   "source": [
    "\"\"\" We need 1,777 cortical wellids in the same order as the expression data columns. \"\"\"\n",
    "\n",
    "column_labels = pd.DataFrame(matlab_data['dat'][1:], columns=matlab_data['dat'][0])['well_id']"
   ]
  },
  {
   "cell_type": "code",
   "execution_count": 4,
   "metadata": {},
   "outputs": [],
   "source": [
    "\"\"\" We need 16,906 gene symbols in the same order as the expression data rows. \"\"\"\n",
    "\n",
    "# Some of the gene symbols have a trailing space, too, that needs to be stripped\n",
    "row_labels = pd.DataFrame(matlab_data['gen'][1:], columns=matlab_data['gen'][0])['gene_symbol'].str.strip()"
   ]
  },
  {
   "cell_type": "code",
   "execution_count": 5,
   "metadata": {},
   "outputs": [],
   "source": [
    "\"\"\" The expression data for Richiardi's selected gene list have had brain and batch_id regressed out\n",
    "    and saved in the matlab file. It is assumed the order of genes is the same in the expression data\n",
    "    and the labels. \"\"\"\n",
    "\n",
    "expr = pd.DataFrame(data=matlab_data['MA_resid'], columns=column_labels, index=row_labels)"
   ]
  },
  {
   "cell_type": "markdown",
   "metadata": {},
   "source": [
    "## Calculate Moran's I for each gene\n",
    "\n",
    "Our investigations over the last two years suggest that a threshold around 16 to 20 mm is at about the distance where proximity biases flatten out. For that reason, a continuous gradient up to 16mm is probably adequate for assessing Moran's I without hours of processing. We will report those \"c16\" data. But for curiosity, and to ensure we're not missing more distant effects, we will also extend our distance threshold out to 64mm, which will be computationally expensive, and should not change the results significantly. We also run binary weights, where all edges < threshold are set to 1 rather than graduated. This is probably pointless because we want to see the effect of the gradation in the space near each sample, but it may also accentuate any nonlinear clustering of gene expression with a plateau effect around the threshold.\n"
   ]
  },
  {
   "cell_type": "code",
   "execution_count": 6,
   "metadata": {},
   "outputs": [],
   "source": [
    "from pysal.lib.weights import DistanceBand\n",
    "from pysal.explore.esda.moran import Moran\n",
    "\n",
    "samples = pd.DataFrame(matlab_data['dat'][1:], columns=matlab_data['dat'][0])\n",
    "samples['geom'] = samples.apply(lambda row: (row['MNI_x'], row['MNI_y'], row['MNI_z']), axis=1)\n",
    "loci = samples[['well_id', 'geom', ]].set_index('well_id')\n",
    "\n",
    "weight_options = {}\n",
    "for b in [True, False]:\n",
    "    for d in [16, 64]:\n",
    "        label = \"b{}\".format(d) if b else \"c{}\".format(d)\n",
    "        weight_options[label] = DistanceBand.from_dataframe(loci, d, geom_col='geom', binary=b, silence_warnings=True)\n"
   ]
  },
  {
   "cell_type": "code",
   "execution_count": 7,
   "metadata": {},
   "outputs": [
    {
     "name": "stdout",
     "output_type": "stream",
     "text": [
      "Starting b16 on November 14, 2019 at 18:07:57...\n",
      "    ... completed b16 on November 14, 2019 at 18:07:58\n",
      "                    I        EI         p\n",
      "gene_symbol                              \n",
      "A1BG         0.001667 -0.000563  0.788571\n",
      "A2M          0.068544 -0.000563  0.000000\n",
      "NAT2        -0.005339 -0.000563  0.565828\n",
      "SERPINA3     0.111641 -0.000563  0.000000\n",
      "Starting b64 on November 14, 2019 at 18:07:58...\n",
      "    ... completed b64 on November 14, 2019 at 18:07:58\n",
      "                    I        EI         p\n",
      "gene_symbol                              \n",
      "A1BG         0.000639 -0.000563  0.338489\n",
      "A2M          0.000386 -0.000563  0.449627\n",
      "NAT2         0.002282 -0.000563  0.023498\n",
      "SERPINA3     0.020750 -0.000563  0.000000\n",
      "Starting c16 on November 14, 2019 at 18:07:58...\n",
      "    ... completed c16 on November 14, 2019 at 18:07:58\n",
      "                    I        EI         p\n",
      "gene_symbol                              \n",
      "A1BG         0.003984 -0.000563  0.651007\n",
      "A2M          0.096887 -0.000563  0.000000\n",
      "NAT2        -0.000334 -0.000563  0.981831\n",
      "SERPINA3     0.146867 -0.000563  0.000000\n",
      "Starting c64 on November 14, 2019 at 18:07:58...\n",
      "    ... completed c64 on November 14, 2019 at 18:07:58\n",
      "                    I        EI             p\n",
      "gene_symbol                                  \n",
      "A1BG         0.000887 -0.000563  4.500766e-01\n",
      "A2M          0.015049 -0.000563  4.440892e-16\n",
      "NAT2         0.002105 -0.000563  1.646620e-01\n",
      "SERPINA3     0.040301 -0.000563  0.000000e+00\n"
     ]
    }
   ],
   "source": [
    "\"\"\" Calculate and visually inspect a few values to see if our calculations match Spiro's.\n",
    "    This can take a while... \"\"\"\n",
    "\n",
    "import os, datetime\n",
    "\n",
    "moran_dfs = {}\n",
    "for weight_label, weights in weight_options.items():\n",
    "    start_time = datetime.datetime.now()\n",
    "    print(\"Starting {} {}...\".format(weight_label, start_time.strftime(\"on %B %d, %Y at %H:%M:%S\")))\n",
    "    \n",
    "    csv_file = \"./morans_{}.csv\".format(weight_label)\n",
    "    if os.path.isfile(csv_file):\n",
    "        moran_dfs[weight_label] = pd.read_csv(csv_file).set_index('gene_symbol')\n",
    "    else:\n",
    "        moran_calcs = []\n",
    "        for i in range(len(expr)):\n",
    "            m = Moran(expr.iloc[i], weights, two_tailed=True)\n",
    "            moran_calcs.append({\n",
    "                'gene_symbol': expr.index[i],\n",
    "                'I': m.I,\n",
    "                'EI': m.EI,\n",
    "                'p': m.p_norm,\n",
    "            })\n",
    "            # print(\"{}. {}: I = {:0.3f}, EI = {:0.5f}, p = {:0.5f}\".format(i, expr.index[i], m.I, m.EI, m.p_norm))\n",
    "\n",
    "        moran_dfs[weight_label] = pd.DataFrame(moran_calcs).set_index('gene_symbol')\n",
    "        moran_dfs[weight_label].to_csv(csv_file)\n",
    "        \n",
    "    print(\"    ... completed {} {}\".format(weight_label, datetime.datetime.now().strftime(\"on %B %d, %Y at %H:%M:%S\")))\n",
    "    print(moran_dfs[weight_label][:4])"
   ]
  },
  {
   "cell_type": "markdown",
   "metadata": {},
   "source": [
    "## Analyze the data\n",
    "\n",
    "We are curious about whether Richiardi's 136 reported genes are different from all other genes, spatially speaking. In other words, did their spatial autocorrelation affect their ability to influence strength fraction in the context of inadequate proximity adjustment?\n",
    "\n",
    "First, we ask what the Moran's I is for Richiardi's genes vs other genes."
   ]
  },
  {
   "cell_type": "code",
   "execution_count": 8,
   "metadata": {},
   "outputs": [],
   "source": [
    "\"\"\" Categorize genes. \"\"\"\n",
    "\n",
    "# Load Richiardi's list of 136 genes, stripping any whitespace from around their labels.\n",
    "richiardi_genes = list(pd.read_csv(top_genes_file, header=None)[0].str.strip())\n",
    "for morans in moran_dfs.values():\n",
    "    morans['richiardi'] = pd.Series(morans.index, index=morans.index).isin(richiardi_genes)\n"
   ]
  },
  {
   "cell_type": "code",
   "execution_count": 9,
   "metadata": {},
   "outputs": [
    {
     "name": "stdout",
     "output_type": "stream",
     "text": [
      "All genes           (b16): mean Moran's I = 0.072, SD 0.093, n = 16,906\n",
      "Non-Richiardi genes (b16): mean Moran's I = 0.070, SD 0.088, n = 16,770\n",
      "Richiardi genes     (b16): mean Moran's I = 0.396, SD 0.134, n =    136\n",
      "All genes           (b64): mean Moran's I = 0.021, SD 0.034, n = 16,906\n",
      "Non-Richiardi genes (b64): mean Moran's I = 0.020, SD 0.032, n = 16,770\n",
      "Richiardi genes     (b64): mean Moran's I = 0.145, SD 0.072, n =    136\n",
      "All genes           (c16): mean Moran's I = 0.087, SD 0.105, n = 16,906\n",
      "Non-Richiardi genes (c16): mean Moran's I = 0.084, SD 0.100, n = 16,770\n",
      "Richiardi genes     (c16): mean Moran's I = 0.430, SD 0.142, n =    136\n",
      "All genes           (c64): mean Moran's I = 0.032, SD 0.046, n = 16,906\n",
      "Non-Richiardi genes (c64): mean Moran's I = 0.031, SD 0.043, n = 16,770\n",
      "Richiardi genes     (c64): mean Moran's I = 0.201, SD 0.085, n =    136\n"
     ]
    }
   ],
   "source": [
    "\"\"\" Report quantitative values. \"\"\"\n",
    "\n",
    "import numpy as np\n",
    "\n",
    "def report_morans(lbl, weight_label, df):\n",
    "    print(\"{} genes {}({}): mean Moran's I = {:0.3f}, SD {:0.3f}, n = {:>6,}\".format(\n",
    "        lbl, \" \" * (13 - len(lbl)), weight_label, np.mean(df['I']), np.std(df['I']), len(df)\n",
    "    ))\n",
    "    \n",
    "for weight_label, morans in moran_dfs.items():\n",
    "    for a_slice in [\n",
    "        ('All', morans),\n",
    "        ('Non-Richiardi', morans[morans['richiardi'] == False]),\n",
    "        ('Richiardi', morans[morans['richiardi']])\n",
    "    ]:\n",
    "        report_morans(a_slice[0], weight_label, a_slice[1])\n"
   ]
  },
  {
   "cell_type": "code",
   "execution_count": 10,
   "metadata": {},
   "outputs": [
    {
     "data": {
      "image/png": "[encoded data removed]",
      "text/plain": [
       "<Figure size 504x432 with 2 Axes>"
      ]
     },
     "metadata": {
      "needs_background": "light"
     },
     "output_type": "display_data"
    },
    {
     "data": {
      "image/png": "[encoded data removed]",
      "text/plain": [
       "<Figure size 504x432 with 2 Axes>"
      ]
     },
     "metadata": {
      "needs_background": "light"
     },
     "output_type": "display_data"
    },
    {
     "data": {
      "image/png": "[encoded data removed]",
      "text/plain": [
       "<Figure size 504x432 with 2 Axes>"
      ]
     },
     "metadata": {
      "needs_background": "light"
     },
     "output_type": "display_data"
    },
    {
     "data": {
      "image/png": "[encoded data removed]",
      "text/plain": [
       "<Figure size 504x432 with 2 Axes>"
      ]
     },
     "metadata": {
      "needs_background": "light"
     },
     "output_type": "display_data"
    }
   ],
   "source": [
    "\"\"\" Plot the distribution, by inclusion in Richiardi's list. \"\"\"\n",
    "\n",
    "import matplotlib.pyplot as plt\n",
    "from matplotlib.patches import Patch\n",
    "import seaborn as sns\n",
    "\n",
    "for weight_label, morans in moran_dfs.items():\n",
    "    sns.set_palette(sns.color_palette(['#ff9999', '#a5b0ff']))\n",
    "    fig, (ax_dist, ax_box) = plt.subplots(nrows=2, ncols=1, sharex=True, figsize=(7,6))\n",
    "    \n",
    "    sns.distplot(morans[\"I\"], color=\"#1e3bff\", ax=ax_dist)\n",
    "    sns.distplot(morans[morans['richiardi']][\"I\"], color=\"red\", ax=ax_dist)\n",
    "    ax_dist.set_xlabel(\"\")\n",
    "    legend_elements = [\n",
    "        Patch(facecolor='#ff9999', edgecolor='red', label='Richiardi genes'),\n",
    "        Patch(facecolor='#a5b0ff', edgecolor='#1e3bff', label='All other genes'),\n",
    "    ]\n",
    "    ax_dist.legend(handles=legend_elements)\n",
    "    \n",
    "    sns.boxplot(x=\"I\", y=\"richiardi\", data=morans, orient=\"h\", order=[True, False], ax=ax_box)\n",
    "    ax_box.set_xlabel(\"Moran's I\")\n",
    "    ax_box.set_ylabel(\"\")\n",
    "    ax_box.set_yticklabels([\"Richiardi\\ngenes\", \"All other\\ngenes\"])\n",
    "    \n",
    "    # This can be changed to .tiff and dpi=300 for higher resolution images\n",
    "    fig.suptitle(weight_label)\n",
    "    fig.savefig(\"./moran_i_{}.png\".format(weight_label), dpi=72, )"
   ]
  },
  {
   "cell_type": "code",
   "execution_count": 11,
   "metadata": {},
   "outputs": [
    {
     "name": "stdout",
     "output_type": "stream",
     "text": [
      "I 0.4297 sd=0.1421 p = 0.000000000, (min p 0.000000000, max p 0.000000000)\n",
      "I 0.0844 sd=0.0996 p = 0.146635404, (min p 0.000000000, max p 0.999837619)\n"
     ]
    }
   ],
   "source": [
    "\"\"\" Report the quantitative results for report in the manuscript. \"\"\"\n",
    "\n",
    "df = moran_dfs[\"c16\"]\n",
    "for r in [True, False, ]:\n",
    "    print(\"I {:0.4f} sd={:0.4f} p = {:0.9f}, (min p {:0.9f}, max p {:0.9f})\".format(\n",
    "        df[df[\"richiardi\"] == r][\"I\"].mean(),\n",
    "        df[df[\"richiardi\"] == r][\"I\"].std(),\n",
    "        df[df[\"richiardi\"] == r][\"p\"].mean(),\n",
    "        df[df[\"richiardi\"] == r][\"p\"].min(),\n",
    "        df[df[\"richiardi\"] == r][\"p\"].max(),\n",
    "    ))\n"
   ]
  },
  {
   "cell_type": "markdown",
   "metadata": {},
   "source": [
    "----\n",
    "\n",
    "Unnecessary exploratory code below this point\n",
    "\n",
    "----"
   ]
  },
  {
   "cell_type": "markdown",
   "metadata": {},
   "source": [
    "### An alternate way to get MNI coordinates directly from AHBA rather than the matlab file"
   ]
  },
  {
   "cell_type": "code",
   "execution_count": 12,
   "metadata": {},
   "outputs": [
    {
     "data": {
      "text/html": [
       "<div>\n",
       "<style scoped>\n",
       "    .dataframe tbody tr th:only-of-type {\n",
       "        vertical-align: middle;\n",
       "    }\n",
       "\n",
       "    .dataframe tbody tr th {\n",
       "        vertical-align: top;\n",
       "    }\n",
       "\n",
       "    .dataframe thead th {\n",
       "        text-align: right;\n",
       "    }\n",
       "</style>\n",
       "<table border=\"1\" class=\"dataframe\">\n",
       "  <thead>\n",
       "    <tr style=\"text-align: right;\">\n",
       "      <th></th>\n",
       "      <th>structure_id</th>\n",
       "      <th>slab_num</th>\n",
       "      <th>slab_type</th>\n",
       "      <th>structure_acronym</th>\n",
       "      <th>structure_name</th>\n",
       "      <th>polygon_id</th>\n",
       "      <th>donor</th>\n",
       "      <th>vox_xyz</th>\n",
       "      <th>mni_xyz</th>\n",
       "      <th>coarse_name</th>\n",
       "      <th>fine_name</th>\n",
       "      <th>side</th>\n",
       "    </tr>\n",
       "    <tr>\n",
       "      <th>well_id</th>\n",
       "      <th></th>\n",
       "      <th></th>\n",
       "      <th></th>\n",
       "      <th></th>\n",
       "      <th></th>\n",
       "      <th></th>\n",
       "      <th></th>\n",
       "      <th></th>\n",
       "      <th></th>\n",
       "      <th></th>\n",
       "      <th></th>\n",
       "      <th></th>\n",
       "    </tr>\n",
       "  </thead>\n",
       "  <tbody>\n",
       "    <tr>\n",
       "      <th>9197</th>\n",
       "      <td>9146</td>\n",
       "      <td>92</td>\n",
       "      <td>BS</td>\n",
       "      <td>LPB</td>\n",
       "      <td>lateral parabrachial nucleus, left</td>\n",
       "      <td>1132188</td>\n",
       "      <td>H03512002</td>\n",
       "      <td>(110, 116, 107)</td>\n",
       "      <td>(-17.3, -34.3, -28.4)</td>\n",
       "      <td>lateral parabrachial nucleus</td>\n",
       "      <td>lateral parabrachial nucleus</td>\n",
       "      <td>L</td>\n",
       "    </tr>\n",
       "    <tr>\n",
       "      <th>126432556</th>\n",
       "      <td>4178</td>\n",
       "      <td>8</td>\n",
       "      <td>CX</td>\n",
       "      <td>PLP</td>\n",
       "      <td>planum polare, left</td>\n",
       "      <td>1407831</td>\n",
       "      <td>H03511012</td>\n",
       "      <td>(142, 119, 97)</td>\n",
       "      <td>(-51.0, -6.0, -10.0)</td>\n",
       "      <td>planum polare</td>\n",
       "      <td>planum polare</td>\n",
       "      <td>L</td>\n",
       "    </tr>\n",
       "    <tr>\n",
       "      <th>11181</th>\n",
       "      <td>4087</td>\n",
       "      <td>6</td>\n",
       "      <td>CX</td>\n",
       "      <td>PoG-cs</td>\n",
       "      <td>postcentral gyrus, left, bank of the central s...</td>\n",
       "      <td>1280014</td>\n",
       "      <td>H03511009</td>\n",
       "      <td>(152, 71, 99)</td>\n",
       "      <td>(-61.0, -8.0, 38.0)</td>\n",
       "      <td>postcentral gyrus</td>\n",
       "      <td>postcentral gyrus, bank of the central sulcus</td>\n",
       "      <td>L</td>\n",
       "    </tr>\n",
       "  </tbody>\n",
       "</table>\n",
       "</div>"
      ],
      "text/plain": [
       "           structure_id  slab_num slab_type structure_acronym  \\\n",
       "well_id                                                         \n",
       "9197               9146        92        BS               LPB   \n",
       "126432556          4178         8        CX               PLP   \n",
       "11181              4087         6        CX            PoG-cs   \n",
       "\n",
       "                                              structure_name  polygon_id  \\\n",
       "well_id                                                                    \n",
       "9197                      lateral parabrachial nucleus, left     1132188   \n",
       "126432556                                planum polare, left     1407831   \n",
       "11181      postcentral gyrus, left, bank of the central s...     1280014   \n",
       "\n",
       "               donor          vox_xyz                mni_xyz  \\\n",
       "well_id                                                        \n",
       "9197       H03512002  (110, 116, 107)  (-17.3, -34.3, -28.4)   \n",
       "126432556  H03511012   (142, 119, 97)   (-51.0, -6.0, -10.0)   \n",
       "11181      H03511009    (152, 71, 99)    (-61.0, -8.0, 38.0)   \n",
       "\n",
       "                            coarse_name  \\\n",
       "well_id                                   \n",
       "9197       lateral parabrachial nucleus   \n",
       "126432556                 planum polare   \n",
       "11181                 postcentral gyrus   \n",
       "\n",
       "                                               fine_name side  \n",
       "well_id                                                        \n",
       "9197                        lateral parabrachial nucleus    L  \n",
       "126432556                                  planum polare    L  \n",
       "11181      postcentral gyrus, bank of the central sulcus    L  "
      ]
     },
     "execution_count": 12,
     "metadata": {},
     "output_type": "execute_result"
    }
   ],
   "source": [
    "\"\"\" This file contains all 3,702 wellids by 12 columns of data about them.\n",
    "    Columns include MNI coordinates and fine and coarse names. \"\"\"\n",
    "\n",
    "import os\n",
    "import pickle\n",
    "\n",
    "PYGEST_DATA = \"/data\"\n",
    "samples_file = os.path.join(PYGEST_DATA, \"cache\", \"all-samples.df\")\n",
    "\n",
    "with open(samples_file, \"rb\") as f:\n",
    "    ahba_samples = pickle.load(f)\n",
    "ahba_samples.sample(3)"
   ]
  },
  {
   "cell_type": "markdown",
   "metadata": {},
   "source": [
    "### Manually view weights and distances supporting Moran's I calculations"
   ]
  },
  {
   "cell_type": "code",
   "execution_count": 13,
   "metadata": {},
   "outputs": [
    {
     "name": "stdout",
     "output_type": "stream",
     "text": [
      "1042 @ ('58.800', '-22.900', '14.200'): ['956', '1035', '1027', '1034', '705', '713']\n",
      " 956 @ ('58.100', '-9.700', '6.100'): 13 neighbors\n",
      "       ['1042', '948', '770', '778', '938', '922', '877', '850']\n",
      "       ['15.5mm', '7.8mm', '11.3mm', '9.7mm', '14.6mm', '13.4mm', '13.8mm', '11.6mm']\n",
      "   b16 ['1.000', '1.000', '1.000', '1.000', '1.000', '1.000', '1.000', '1.000']\n",
      "   b64 ['1.000', '1.000', '1.000', '1.000', '1.000', '1.000', '1.000', '1.000']\n",
      "   c16 ['0.065', '0.129', '0.089', '0.103', '0.068', '0.075', '0.072', '0.086']\n",
      "   c64 ['0.065', '0.129', '0.089', '0.103', '0.016', '0.016', '0.042', '0.040']\n",
      "1035 @ ('69.300', '-24.900', '5.900'): 3 neighbors\n",
      "       ['1042', '1027', '5148']\n",
      "       ['13.5mm', '10.7mm', '15.2mm']\n",
      "   b16 ['1.000', '1.000', '1.000']\n",
      "   b64 ['1.000', '1.000', '1.000', '1.000', '1.000', '1.000', '1.000', '1.000']\n",
      "   c16 ['0.074', '0.093', '0.066']\n",
      "   c64 ['0.074', '0.042', '0.053', '0.033', '0.041', '0.051', '0.045', '0.037']\n",
      "1027 @ ('60.700', '-28.600', '0.700'): 8 neighbors\n",
      "       ['1042', '1011', '1019', '1035', '1043', '683', '5140', '5148']\n",
      "       ['14.8mm', '9.2mm', '12.1mm', '10.7mm', '15.0mm', '14.0mm', '15.4mm', '7.8mm']\n",
      "   b16 ['1.000', '1.000', '1.000', '1.000', '1.000', '1.000', '1.000', '1.000']\n",
      "   b64 ['1.000', '1.000', '1.000', '1.000', '1.000', '1.000', '1.000', '1.000']\n",
      "   c16 ['0.068', '0.109', '0.082', '0.093', '0.067', '0.071', '0.065', '0.128']\n",
      "   c64 ['0.068', '0.048', '0.050', '0.034', '0.037', '0.017', '0.017', '0.109']\n",
      "1034 @ ('68.300', '-20.700', '21.900'): 2 neighbors\n",
      "       ['1042', '705']\n",
      "       ['12.4mm', '14.2mm']\n",
      "   b16 ['1.000', '1.000']\n",
      "   b64 ['1.000', '1.000', '1.000', '1.000', '1.000', '1.000', '1.000', '1.000']\n",
      "   c16 ['0.080', '0.070']\n",
      "   c64 ['0.080', '0.037', '0.046', '0.031', '0.036', '0.016', '0.033', '0.031']\n",
      " 705 @ ('61.700', '-33.200', '20.700'): 6 neighbors\n",
      "       ['1042', '1034', '713', '603', '595', '611']\n",
      "       ['12.5mm', '14.2mm', '3.9mm', '6.7mm', '15.1mm', '5.6mm']\n",
      "   b16 ['1.000', '1.000', '1.000', '1.000', '1.000', '1.000']\n",
      "   b64 ['1.000', '1.000', '1.000', '1.000', '1.000', '1.000', '1.000', '1.000']\n",
      "   c16 ['0.080', '0.070', '0.254', '0.150', '0.066', '0.178']\n",
      "   c64 ['0.080', '0.033', '0.036', '0.026', '0.028', '0.018', '0.019', '0.042']\n",
      " 713 @ ('59.600', '-34.100', '17.500'): 6 neighbors\n",
      "       ['1042', '705', '603', '595', '611', '5140']\n",
      "       ['11.7mm', '3.9mm', '9.9mm', '13.1mm', '7.6mm', '15.9mm']\n",
      "   b16 ['1.000', '1.000', '1.000', '1.000', '1.000', '1.000']\n",
      "   b64 ['1.000', '1.000', '1.000', '1.000', '1.000', '1.000', '1.000', '1.000']\n",
      "   c16 ['0.085', '0.254', '0.101', '0.077', '0.131', '0.063']\n",
      "   c64 ['0.085', '0.035', '0.037', '0.027', '0.028', '0.019', '0.019', '0.049']\n"
     ]
    }
   ],
   "source": [
    "\"\"\" Spot check one well_id's set of neighbors to ensure they are all within 16mm, as expected.\n",
    "    And see how the weighting is implemented for each neighbor. \"\"\"\n",
    "\n",
    "import numpy as np\n",
    "\n",
    "def dist(a, b):\n",
    "    \"\"\" Calculate Euclidean distance between two points \"\"\"\n",
    "    a = np.array([float(x) for x in a])\n",
    "    b = np.array([float(x) for x in b])\n",
    "    return np.sqrt(np.sum((a - b)**2, axis=0))\n",
    "\n",
    "maxl = 8  # Extent of any list to print - avoid ridiculous overprinting\n",
    "\n",
    "# We are just sampling some data for manual review; keep it reasonable with \"c16\" rather than much longer \"c64\"\n",
    "weights = weight_options[\"c16\"]\n",
    "print(\"1042 @ {}: {}\".format(samples[samples['well_id'] == '1042']['geom'].values[0], weights.neighbors['1042'][:maxl]))\n",
    "for weight in weights.neighbors['1042']:\n",
    "    print(\"{:>4} @ {}: {} neighbors\".format(\n",
    "        weight,\n",
    "        samples[samples['well_id'] == weight]['geom'].values[0],\n",
    "        len(weights.neighbors[weight])\n",
    "    ))\n",
    "    print(\"       {}\".format(weights.neighbors[weight][:maxl]))\n",
    "    loci_of_neighbors = [samples[samples['well_id'] == x]['geom'].values[0] for x in weights.neighbors[weight]]\n",
    "    locus_of_self = samples[samples['well_id'] == weight]['geom'].values[0]\n",
    "    print(\"       {}\".format([\"{:0.1f}mm\".format(dist(locus_of_self, b)) for b in loci_of_neighbors[:maxl]]))\n",
    "    for w in sorted(list(weight_options.keys())):\n",
    "        print(\"   {} {}\".format(w, [\"{:0.3f}\".format(x) for x in weight_options[w].weights[weight][:maxl]]))\n"
   ]
  },
  {
   "cell_type": "markdown",
   "metadata": {},
   "source": [
    "### Manually view dataframes"
   ]
  },
  {
   "cell_type": "code",
   "execution_count": 14,
   "metadata": {},
   "outputs": [
    {
     "data": {
      "text/html": [
       "<div>\n",
       "<style scoped>\n",
       "    .dataframe tbody tr th:only-of-type {\n",
       "        vertical-align: middle;\n",
       "    }\n",
       "\n",
       "    .dataframe tbody tr th {\n",
       "        vertical-align: top;\n",
       "    }\n",
       "\n",
       "    .dataframe thead th {\n",
       "        text-align: right;\n",
       "    }\n",
       "</style>\n",
       "<table border=\"1\" class=\"dataframe\">\n",
       "  <thead>\n",
       "    <tr style=\"text-align: right;\">\n",
       "      <th>well_id</th>\n",
       "      <th>1042</th>\n",
       "      <th>948</th>\n",
       "      <th>899</th>\n",
       "      <th>956</th>\n",
       "      <th>770</th>\n",
       "      <th>778</th>\n",
       "      <th>989</th>\n",
       "      <th>990</th>\n",
       "    </tr>\n",
       "    <tr>\n",
       "      <th>gene_symbol</th>\n",
       "      <th></th>\n",
       "      <th></th>\n",
       "      <th></th>\n",
       "      <th></th>\n",
       "      <th></th>\n",
       "      <th></th>\n",
       "      <th></th>\n",
       "      <th></th>\n",
       "    </tr>\n",
       "  </thead>\n",
       "  <tbody>\n",
       "    <tr>\n",
       "      <th>A1BG</th>\n",
       "      <td>-0.462261</td>\n",
       "      <td>-0.173913</td>\n",
       "      <td>0.200101</td>\n",
       "      <td>-0.294910</td>\n",
       "      <td>0.270693</td>\n",
       "      <td>-0.134072</td>\n",
       "      <td>0.031156</td>\n",
       "      <td>-0.670598</td>\n",
       "    </tr>\n",
       "    <tr>\n",
       "      <th>A2M</th>\n",
       "      <td>0.382273</td>\n",
       "      <td>-0.075982</td>\n",
       "      <td>-0.352472</td>\n",
       "      <td>0.384405</td>\n",
       "      <td>-0.134426</td>\n",
       "      <td>-0.256347</td>\n",
       "      <td>-0.315110</td>\n",
       "      <td>0.399913</td>\n",
       "    </tr>\n",
       "    <tr>\n",
       "      <th>NAT2</th>\n",
       "      <td>-0.291798</td>\n",
       "      <td>-0.091831</td>\n",
       "      <td>-0.110132</td>\n",
       "      <td>-0.113791</td>\n",
       "      <td>0.338370</td>\n",
       "      <td>0.106912</td>\n",
       "      <td>-0.248555</td>\n",
       "      <td>-0.182311</td>\n",
       "    </tr>\n",
       "    <tr>\n",
       "      <th>SERPINA3</th>\n",
       "      <td>0.098576</td>\n",
       "      <td>-0.640421</td>\n",
       "      <td>0.141947</td>\n",
       "      <td>0.665134</td>\n",
       "      <td>-0.048537</td>\n",
       "      <td>-0.474026</td>\n",
       "      <td>0.528495</td>\n",
       "      <td>1.039238</td>\n",
       "    </tr>\n",
       "  </tbody>\n",
       "</table>\n",
       "</div>"
      ],
      "text/plain": [
       "well_id          1042       948       899       956       770       778  \\\n",
       "gene_symbol                                                               \n",
       "A1BG        -0.462261 -0.173913  0.200101 -0.294910  0.270693 -0.134072   \n",
       "A2M          0.382273 -0.075982 -0.352472  0.384405 -0.134426 -0.256347   \n",
       "NAT2        -0.291798 -0.091831 -0.110132 -0.113791  0.338370  0.106912   \n",
       "SERPINA3     0.098576 -0.640421  0.141947  0.665134 -0.048537 -0.474026   \n",
       "\n",
       "well_id           989       990  \n",
       "gene_symbol                      \n",
       "A1BG         0.031156 -0.670598  \n",
       "A2M         -0.315110  0.399913  \n",
       "NAT2        -0.248555 -0.182311  \n",
       "SERPINA3     0.528495  1.039238  "
      ]
     },
     "execution_count": 14,
     "metadata": {},
     "output_type": "execute_result"
    }
   ],
   "source": [
    "expr.iloc[0:4, 0:8]"
   ]
  },
  {
   "cell_type": "code",
   "execution_count": 15,
   "metadata": {},
   "outputs": [
    {
     "name": "stdout",
     "output_type": "stream",
     "text": [
      "Weights for b16: 1,777\n",
      "Moran I values for b16:\n",
      "                    I        EI         p  richiardi\n",
      "gene_symbol                                         \n",
      "A1BG         0.001667 -0.000563  0.788571      False\n",
      "A2M          0.068544 -0.000563  0.000000      False\n",
      "NAT2        -0.005339 -0.000563  0.565828      False\n",
      "SERPINA3     0.111641 -0.000563  0.000000      False\n",
      "\n",
      "Weights for b64: 1,777\n",
      "Moran I values for b64:\n",
      "                    I        EI         p  richiardi\n",
      "gene_symbol                                         \n",
      "A1BG         0.000639 -0.000563  0.338489      False\n",
      "A2M          0.000386 -0.000563  0.449627      False\n",
      "NAT2         0.002282 -0.000563  0.023498      False\n",
      "SERPINA3     0.020750 -0.000563  0.000000      False\n",
      "\n",
      "Weights for c16: 1,777\n",
      "Moran I values for c16:\n",
      "                    I        EI         p  richiardi\n",
      "gene_symbol                                         \n",
      "A1BG         0.003984 -0.000563  0.651007      False\n",
      "A2M          0.096887 -0.000563  0.000000      False\n",
      "NAT2        -0.000334 -0.000563  0.981831      False\n",
      "SERPINA3     0.146867 -0.000563  0.000000      False\n",
      "\n",
      "Weights for c64: 1,777\n",
      "Moran I values for c64:\n",
      "                    I        EI             p  richiardi\n",
      "gene_symbol                                             \n",
      "A1BG         0.000887 -0.000563  4.500766e-01      False\n",
      "A2M          0.015049 -0.000563  4.440892e-16      False\n",
      "NAT2         0.002105 -0.000563  1.646620e-01      False\n",
      "SERPINA3     0.040301 -0.000563  0.000000e+00      False\n",
      "\n"
     ]
    }
   ],
   "source": [
    "for w in sorted(list(weight_options.keys())):\n",
    "    print(\"Weights for {}: {:,}\".format(w, weight_options[w].n))\n",
    "    print(\"Moran I values for {}:\".format(w))\n",
    "    print(moran_dfs[w].iloc[0:4, :])\n",
    "    print()"
   ]
  },
  {
   "cell_type": "code",
   "execution_count": 16,
   "metadata": {},
   "outputs": [
    {
     "data": {
      "text/plain": [
       "['b16', 'b64', 'c16', 'c64']"
      ]
     },
     "execution_count": 16,
     "metadata": {},
     "output_type": "execute_result"
    }
   ],
   "source": [
    "sorted(list(weight_options.keys()))\n"
   ]
  },
  {
   "cell_type": "code",
   "execution_count": 17,
   "metadata": {},
   "outputs": [
    {
     "data": {
      "text/plain": [
       "0.08714896631404488"
      ]
     },
     "execution_count": 17,
     "metadata": {},
     "output_type": "execute_result"
    }
   ],
   "source": [
    "moran_dfs[\"c16\"][\"I\"].mean()\n"
   ]
  },
  {
   "cell_type": "code",
   "execution_count": 18,
   "metadata": {},
   "outputs": [
    {
     "name": "stdout",
     "output_type": "stream",
     "text": [
      "ALOX12 0.000000000\n",
      "ASGR2 0.000000000\n",
      "CALB1 0.000000000\n",
      "CD6 0.000000000\n",
      "CD70 0.000000000\n",
      "CDK1 0.000000000\n",
      "COL5A2 0.000000000\n",
      "CRYBA2 0.000000000\n",
      "CYP2C18 0.000000000\n",
      "GABRA5 0.000000000\n",
      "GMPR 0.000000000\n",
      "GNGT2 0.000000000\n",
      "NPBWR2 0.000000000\n",
      "GPR20 0.000000000\n",
      "GPR26 0.000000000\n",
      "GPX3 0.000000000\n",
      "GRP 0.000000000\n",
      "TLX2 0.000000000\n",
      "HPCA 0.000000000\n",
      "HOXD1 0.000000000\n",
      "HPCAL1 0.000000000\n",
      "HSD11B1 0.000000000\n",
      "IL13RA2 0.000000000\n",
      "KCNA1 0.000000000\n",
      "KCNA3 0.000000000\n",
      "KCNA5 0.000000000\n",
      "KCNC1 0.000000000\n",
      "KLK1 0.000000000\n",
      "KRT1 0.000000000\n",
      "KRT31 0.000000000\n",
      "LAIR2 0.000000000\n",
      "MGP 0.000000000\n",
      "MYBPC1 0.000000000\n",
      "MYH7 0.000000000\n",
      "NEB 0.000000000\n",
      "NEFH 0.000000000\n",
      "NGFR 0.000000000\n",
      "NOV 0.000000000\n",
      "PCP4 0.000000000\n",
      "PNMT 0.000000000\n",
      "PTGS1 0.000000000\n",
      "PVALB 0.000000000\n",
      "RBP4 0.000000000\n",
      "SCN1B 0.000000000\n",
      "SCN4B 0.000000000\n",
      "SLC20A2 0.000000000\n",
      "SLN 0.000000000\n",
      "SNAP25 0.000000000\n",
      "TDO2 0.000000000\n",
      "TGFBI 0.000000000\n",
      "TSPAN8 0.000000000\n",
      "TNNT2 0.000000000\n",
      "GLRA3 0.000000000\n",
      "FZD7 0.000000000\n",
      "SEMA7A 0.000000000\n",
      "NOL4 0.000000000\n",
      "ADAM23 0.000000000\n",
      "NRP1 0.000000000\n",
      "WISP2 0.000000000\n",
      "WISP1 0.000000000\n",
      "BAIAP3 0.000000000\n",
      "SLC16A6 0.000000000\n",
      "SLC16A5 0.000000000\n",
      "ONECUT2 0.000000000\n",
      "CARTPT 0.000000000\n",
      "GNA14 0.000000000\n",
      "SEMA3C 0.000000000\n",
      "CPLX1 0.000000000\n",
      "KLK8 0.000000000\n",
      "LYPLA2 0.000000000\n",
      "ANKRD6 0.000000000\n",
      "SV2C 0.000000000\n",
      "PLCH1 0.000000000\n",
      "RHOBTB2 0.000000000\n",
      "ISCU 0.000000000\n",
      "TRIM29 0.000000000\n",
      "CNTN6 0.000000000\n",
      "CDR2L 0.000000000\n",
      "SOST 0.000000000\n",
      "GAL 0.000000000\n",
      "GPR88 0.000000000\n",
      "WNT4 0.000000000\n",
      "NECAB2 0.000000000\n",
      "EPN3 0.000000000\n",
      "LMOD3 0.000000000\n",
      "SHD 0.000000000\n",
      "TSHZ3 0.000000000\n",
      "DMRT3 0.000000000\n",
      "LGR6 0.000000000\n",
      "NEUROD6 0.000000000\n",
      "KCTD15 0.000000000\n",
      "SPHKAP 0.000000000\n",
      "OR51E2 0.000000000\n",
      "MS4A8 0.000000000\n",
      "GALP 0.000000000\n",
      "IL33 0.000000000\n",
      "NEXN 0.000000000\n",
      "MYLK3 0.000000000\n",
      "LRRC38 0.000000000\n",
      "SYT2 0.000000000\n",
      "GOLT1A 0.000000000\n",
      "NKAIN4 0.000000000\n",
      "RTP1 0.000000000\n",
      "ENPP6 0.000000000\n",
      "AMDHD1 0.000000000\n",
      "CCBE1 0.000000000\n",
      "FAM163A 0.000000000\n",
      "C3orf55 0.000000000\n",
      "SH3RF2 0.000000000\n",
      "KANK4 0.000000000\n",
      "PRSS35 0.000000000\n",
      "SLC39A12 0.000000000\n",
      "RSPH9 0.000000000\n",
      "PRR15 0.000000000\n",
      "ATP6V1C2 0.000000000\n",
      "TINCR 0.000000000\n",
      "PYDC1 0.000000000\n",
      "CD163L1 0.000000000\n",
      "CXXC11 0.000000000\n",
      "SCARA5 0.000000000\n",
      "TMEM52 0.000000000\n",
      "CCDC39 0.000000000\n",
      "SYT10 0.000000000\n",
      "RBPMS2 0.000000000\n",
      "SLC22A10 0.000000000\n",
      "NUPR1L 0.000000000\n",
      "FEZF1 0.000000000\n",
      "ONECUT3 0.000000000\n",
      "LINC00238 0.000000000\n",
      "CTXN3 0.000000000\n",
      "PIRT 0.000000000\n",
      "ZCCHC18 0.000000000\n",
      "IQCJ 0.000000000\n",
      "SHISA9 0.000000000\n",
      "SIX3-AS1 0.000000000\n",
      "LINC00617 0.000000000\n"
     ]
    }
   ],
   "source": [
    "for i, row in moran_dfs[\"c16\"][moran_dfs[\"c16\"][\"richiardi\"] == True].iterrows():\n",
    "    print(\"{} {:0.9f}\".format(i, row.p))"
   ]
  },
  {
   "cell_type": "code",
   "execution_count": null,
   "metadata": {},
   "outputs": [],
   "source": []
  }
 ],
 "metadata": {
  "kernelspec": {
   "display_name": "schmidt_geconn",
   "language": "python",
   "name": "schmidt_geconn"
  },
  "language_info": {
   "codemirror_mode": {
    "name": "ipython",
    "version": 3
   },
   "file_extension": ".py",
   "mimetype": "text/x-python",
   "name": "python",
   "nbconvert_exporter": "python",
   "pygments_lexer": "ipython3",
   "version": "3.6.8"
  }
 },
 "nbformat": 4,
 "nbformat_minor": 4
}
